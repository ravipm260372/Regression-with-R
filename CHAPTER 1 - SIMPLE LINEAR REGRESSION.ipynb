{
 "cells": [
  {
   "cell_type": "markdown",
   "metadata": {},
   "source": [
    "# Overview  \n",
    "\n",
    "I am working through the material in the Penn State online class STAT 501 Regression Methods. \n",
    "\n",
    "This Notebook is an attempt to translate the concepts and examples illustrated in the class into R\n",
    "\n",
    "This lesson primarily introduces the simple linear regression (SLR) model.  \n",
    "\n",
    "The four conditions for inferences from the SLR model are that the errors ei are (1) independent (2) normally distributed random variables with (3) mean zero (linearity) and (4) constant variance σ2.\n",
    "\n",
    "Concept of ANOVA. \n",
    "\n",
    "The coefficient of determination, R2 is the ratio of the sum of squared residuals over the total sum of squares r2=SSR/SST. \n",
    "\n",
    "The Pearson correlation coefficient r is the square root of r2 with sign equal to that of the slope parameter β1.\n",
    "\n",
    "Hypothesis tests (t-test of H0:β1=0, or ANOVA F-test for H0:β1=0) of the population correlation ρ when it is not obvious which variable should be regarded as the response.  \n",
    "\n",
    "References : STAT501 : https://online.stat.psu.edu/stat501/ "
   ]
  },
  {
   "cell_type": "markdown",
   "metadata": {},
   "source": [
    "# Data Management  \n",
    "This lesson uses several data files. We load them right away in this section  because the lessons often refer to data files multiple times."
   ]
  },
  {
   "cell_type": "markdown",
   "metadata": {},
   "source": [
    "### Loading required libraries"
   ]
  },
  {
   "cell_type": "code",
   "execution_count": 13,
   "metadata": {},
   "outputs": [],
   "source": [
    "library(readr) ## reading data files\n",
    "library(ggplot2) ## plotting data visualizations\n",
    "library(dplyr) ## data manipluation"
   ]
  },
  {
   "cell_type": "markdown",
   "metadata": {},
   "source": [
    "### Loading the datasets"
   ]
  },
  {
   "cell_type": "code",
   "execution_count": 2,
   "metadata": {},
   "outputs": [
    {
     "data": {
      "text/html": [
       "<table>\n",
       "<caption>A data.frame: 6 × 5</caption>\n",
       "<thead>\n",
       "\t<tr><th></th><th scope=col>State</th><th scope=col>Lat</th><th scope=col>Mort</th><th scope=col>Ocean</th><th scope=col>Long</th></tr>\n",
       "\t<tr><th></th><th scope=col>&lt;fct&gt;</th><th scope=col>&lt;dbl&gt;</th><th scope=col>&lt;int&gt;</th><th scope=col>&lt;int&gt;</th><th scope=col>&lt;dbl&gt;</th></tr>\n",
       "</thead>\n",
       "<tbody>\n",
       "\t<tr><th scope=row>1</th><td>Alabama    </td><td>33.0</td><td>219</td><td>1</td><td> 87.0</td></tr>\n",
       "\t<tr><th scope=row>2</th><td>Arizona    </td><td>34.5</td><td>160</td><td>0</td><td>112.0</td></tr>\n",
       "\t<tr><th scope=row>3</th><td>Arkansas   </td><td>35.0</td><td>170</td><td>0</td><td> 92.5</td></tr>\n",
       "\t<tr><th scope=row>4</th><td>California </td><td>37.5</td><td>182</td><td>1</td><td>119.5</td></tr>\n",
       "\t<tr><th scope=row>5</th><td>Colorado   </td><td>39.0</td><td>149</td><td>0</td><td>105.5</td></tr>\n",
       "\t<tr><th scope=row>6</th><td>Connecticut</td><td>41.8</td><td>159</td><td>1</td><td> 72.8</td></tr>\n",
       "</tbody>\n",
       "</table>\n"
      ],
      "text/latex": [
       "A data.frame: 6 × 5\n",
       "\\begin{tabular}{r|lllll}\n",
       "  & State & Lat & Mort & Ocean & Long\\\\\n",
       "  & <fct> & <dbl> & <int> & <int> & <dbl>\\\\\n",
       "\\hline\n",
       "\t1 & Alabama     & 33.0 & 219 & 1 &  87.0\\\\\n",
       "\t2 & Arizona     & 34.5 & 160 & 0 & 112.0\\\\\n",
       "\t3 & Arkansas    & 35.0 & 170 & 0 &  92.5\\\\\n",
       "\t4 & California  & 37.5 & 182 & 1 & 119.5\\\\\n",
       "\t5 & Colorado    & 39.0 & 149 & 0 & 105.5\\\\\n",
       "\t6 & Connecticut & 41.8 & 159 & 1 &  72.8\\\\\n",
       "\\end{tabular}\n"
      ],
      "text/markdown": [
       "\n",
       "A data.frame: 6 × 5\n",
       "\n",
       "| <!--/--> | State &lt;fct&gt; | Lat &lt;dbl&gt; | Mort &lt;int&gt; | Ocean &lt;int&gt; | Long &lt;dbl&gt; |\n",
       "|---|---|---|---|---|---|\n",
       "| 1 | Alabama     | 33.0 | 219 | 1 |  87.0 |\n",
       "| 2 | Arizona     | 34.5 | 160 | 0 | 112.0 |\n",
       "| 3 | Arkansas    | 35.0 | 170 | 0 |  92.5 |\n",
       "| 4 | California  | 37.5 | 182 | 1 | 119.5 |\n",
       "| 5 | Colorado    | 39.0 | 149 | 0 | 105.5 |\n",
       "| 6 | Connecticut | 41.8 | 159 | 1 |  72.8 |\n",
       "\n"
      ],
      "text/plain": [
       "  State       Lat  Mort Ocean Long \n",
       "1 Alabama     33.0 219  1      87.0\n",
       "2 Arizona     34.5 160  0     112.0\n",
       "3 Arkansas    35.0 170  0      92.5\n",
       "4 California  37.5 182  1     119.5\n",
       "5 Colorado    39.0 149  0     105.5\n",
       "6 Connecticut 41.8 159  1      72.8"
      ]
     },
     "metadata": {},
     "output_type": "display_data"
    }
   ],
   "source": [
    "# Skincancer is a .csv file.\n",
    "# Mortality due to skin cancer (number of deaths per 10 million people), \n",
    "# and U.S. state latitude and longitude at center of state for n=49 states.\n",
    "skincancer <- read.csv(\"skin_cancer.csv\")\n",
    "skincancer %>% head()"
   ]
  },
  {
   "cell_type": "code",
   "execution_count": 3,
   "metadata": {},
   "outputs": [
    {
     "data": {
      "text/html": [
       "<table>\n",
       "<caption>A data.frame: 6 × 2</caption>\n",
       "<thead>\n",
       "\t<tr><th></th><th scope=col>ht</th><th scope=col>wt</th></tr>\n",
       "\t<tr><th></th><th scope=col>&lt;int&gt;</th><th scope=col>&lt;int&gt;</th></tr>\n",
       "</thead>\n",
       "<tbody>\n",
       "\t<tr><th scope=row>1</th><td>63</td><td>127</td></tr>\n",
       "\t<tr><th scope=row>2</th><td>64</td><td>121</td></tr>\n",
       "\t<tr><th scope=row>3</th><td>66</td><td>142</td></tr>\n",
       "\t<tr><th scope=row>4</th><td>69</td><td>157</td></tr>\n",
       "\t<tr><th scope=row>5</th><td>69</td><td>162</td></tr>\n",
       "\t<tr><th scope=row>6</th><td>71</td><td>156</td></tr>\n",
       "</tbody>\n",
       "</table>\n"
      ],
      "text/latex": [
       "A data.frame: 6 × 2\n",
       "\\begin{tabular}{r|ll}\n",
       "  & ht & wt\\\\\n",
       "  & <int> & <int>\\\\\n",
       "\\hline\n",
       "\t1 & 63 & 127\\\\\n",
       "\t2 & 64 & 121\\\\\n",
       "\t3 & 66 & 142\\\\\n",
       "\t4 & 69 & 157\\\\\n",
       "\t5 & 69 & 162\\\\\n",
       "\t6 & 71 & 156\\\\\n",
       "\\end{tabular}\n"
      ],
      "text/markdown": [
       "\n",
       "A data.frame: 6 × 2\n",
       "\n",
       "| <!--/--> | ht &lt;int&gt; | wt &lt;int&gt; |\n",
       "|---|---|---|\n",
       "| 1 | 63 | 127 |\n",
       "| 2 | 64 | 121 |\n",
       "| 3 | 66 | 142 |\n",
       "| 4 | 69 | 157 |\n",
       "| 5 | 69 | 162 |\n",
       "| 6 | 71 | 156 |\n",
       "\n"
      ],
      "text/plain": [
       "  ht wt \n",
       "1 63 127\n",
       "2 64 121\n",
       "3 66 142\n",
       "4 69 157\n",
       "5 69 162\n",
       "6 71 156"
      ]
     },
     "metadata": {},
     "output_type": "display_data"
    }
   ],
   "source": [
    "# student_height_weight is a tab-delimited data file.\n",
    "# Height (inches) and weight (pounds) for n=10 students.\n",
    "path = 'C:/Users/rmummiga/Documents/DATA FILES/REGRESSION_STATS_501/STAT501_Lesson01/student_height_weight.txt'\n",
    "student <- read.table(path, sep = '\\t', header = TRUE)\n",
    "head(student)"
   ]
  },
  {
   "cell_type": "code",
   "execution_count": 4,
   "metadata": {},
   "outputs": [
    {
     "data": {
      "text/html": [
       "<table>\n",
       "<caption>A data.frame: 6 × 3</caption>\n",
       "<thead>\n",
       "\t<tr><th></th><th scope=col>YEAR</th><th scope=col>HGHT</th><th scope=col>STORIES</th></tr>\n",
       "\t<tr><th></th><th scope=col>&lt;int&gt;</th><th scope=col>&lt;int&gt;</th><th scope=col>&lt;int&gt;</th></tr>\n",
       "</thead>\n",
       "<tbody>\n",
       "\t<tr><th scope=row>1</th><td>1990</td><td>770</td><td>54</td></tr>\n",
       "\t<tr><th scope=row>2</th><td>1980</td><td>677</td><td>47</td></tr>\n",
       "\t<tr><th scope=row>3</th><td>1990</td><td>428</td><td>28</td></tr>\n",
       "\t<tr><th scope=row>4</th><td>1989</td><td>410</td><td>38</td></tr>\n",
       "\t<tr><th scope=row>5</th><td>1966</td><td>371</td><td>29</td></tr>\n",
       "\t<tr><th scope=row>6</th><td>1976</td><td>504</td><td>38</td></tr>\n",
       "</tbody>\n",
       "</table>\n"
      ],
      "text/latex": [
       "A data.frame: 6 × 3\n",
       "\\begin{tabular}{r|lll}\n",
       "  & YEAR & HGHT & STORIES\\\\\n",
       "  & <int> & <int> & <int>\\\\\n",
       "\\hline\n",
       "\t1 & 1990 & 770 & 54\\\\\n",
       "\t2 & 1980 & 677 & 47\\\\\n",
       "\t3 & 1990 & 428 & 28\\\\\n",
       "\t4 & 1989 & 410 & 38\\\\\n",
       "\t5 & 1966 & 371 & 29\\\\\n",
       "\t6 & 1976 & 504 & 38\\\\\n",
       "\\end{tabular}\n"
      ],
      "text/markdown": [
       "\n",
       "A data.frame: 6 × 3\n",
       "\n",
       "| <!--/--> | YEAR &lt;int&gt; | HGHT &lt;int&gt; | STORIES &lt;int&gt; |\n",
       "|---|---|---|---|\n",
       "| 1 | 1990 | 770 | 54 |\n",
       "| 2 | 1980 | 677 | 47 |\n",
       "| 3 | 1990 | 428 | 28 |\n",
       "| 4 | 1989 | 410 | 38 |\n",
       "| 5 | 1966 | 371 | 29 |\n",
       "| 6 | 1976 | 504 | 38 |\n",
       "\n"
      ],
      "text/plain": [
       "  YEAR HGHT STORIES\n",
       "1 1990 770  54     \n",
       "2 1980 677  47     \n",
       "3 1990 428  28     \n",
       "4 1989 410  38     \n",
       "5 1966 371  29     \n",
       "6 1976 504  38     "
      ]
     },
     "metadata": {},
     "output_type": "display_data"
    }
   ],
   "source": [
    "# bldgstories is a tab-delimited data file.\n",
    "# Buiding height (feet) and number of stories for n=60 buildings.\n",
    "# In this case, the header includes a space character that confuses R.  Work \n",
    "# around the issue by skipping the first line, then manually setting the \n",
    "# column headers using colnames.\n",
    "path <- 'C:/Users/rmummiga/Documents/DATA FILES/REGRESSION_STATS_501/STAT501_Lesson01//bldgstories.txt'\n",
    "bldgstories <- read.table(path, sep = '\\t', skip = 1)\n",
    "colnames(bldgstories) <- c('YEAR', 'HGHT', 'STORIES')\n",
    "head(bldgstories)"
   ]
  },
  {
   "cell_type": "code",
   "execution_count": 5,
   "metadata": {},
   "outputs": [
    {
     "data": {
      "text/html": [
       "<table>\n",
       "<caption>A data.frame: 6 × 2</caption>\n",
       "<thead>\n",
       "\t<tr><th></th><th scope=col>Age</th><th scope=col>Distance</th></tr>\n",
       "\t<tr><th></th><th scope=col>&lt;int&gt;</th><th scope=col>&lt;int&gt;</th></tr>\n",
       "</thead>\n",
       "<tbody>\n",
       "\t<tr><th scope=row>1</th><td>18</td><td>510</td></tr>\n",
       "\t<tr><th scope=row>2</th><td>20</td><td>590</td></tr>\n",
       "\t<tr><th scope=row>3</th><td>22</td><td>560</td></tr>\n",
       "\t<tr><th scope=row>4</th><td>23</td><td>510</td></tr>\n",
       "\t<tr><th scope=row>5</th><td>23</td><td>460</td></tr>\n",
       "\t<tr><th scope=row>6</th><td>25</td><td>490</td></tr>\n",
       "</tbody>\n",
       "</table>\n"
      ],
      "text/latex": [
       "A data.frame: 6 × 2\n",
       "\\begin{tabular}{r|ll}\n",
       "  & Age & Distance\\\\\n",
       "  & <int> & <int>\\\\\n",
       "\\hline\n",
       "\t1 & 18 & 510\\\\\n",
       "\t2 & 20 & 590\\\\\n",
       "\t3 & 22 & 560\\\\\n",
       "\t4 & 23 & 510\\\\\n",
       "\t5 & 23 & 460\\\\\n",
       "\t6 & 25 & 490\\\\\n",
       "\\end{tabular}\n"
      ],
      "text/markdown": [
       "\n",
       "A data.frame: 6 × 2\n",
       "\n",
       "| <!--/--> | Age &lt;int&gt; | Distance &lt;int&gt; |\n",
       "|---|---|---|\n",
       "| 1 | 18 | 510 |\n",
       "| 2 | 20 | 590 |\n",
       "| 3 | 22 | 560 |\n",
       "| 4 | 23 | 510 |\n",
       "| 5 | 23 | 460 |\n",
       "| 6 | 25 | 490 |\n",
       "\n"
      ],
      "text/plain": [
       "  Age Distance\n",
       "1 18  510     \n",
       "2 20  590     \n",
       "3 22  560     \n",
       "4 23  510     \n",
       "5 23  460     \n",
       "6 25  490     "
      ]
     },
     "metadata": {},
     "output_type": "display_data"
    }
   ],
   "source": [
    "# signdist is a tab-delimited data file.\n",
    "# Driver age (years) and maximum distance (feet) at which the driver can read \n",
    "# a road sign for n=30 drivers.\n",
    "path <- 'C:/Users/rmummiga/Documents/DATA FILES/REGRESSION_STATS_501/STAT501_Lesson01//signdist.txt'\n",
    "signdist <- read.table(path, sep = '\\t', header = TRUE)\n",
    "head(signdist)"
   ]
  },
  {
   "cell_type": "code",
   "execution_count": 6,
   "metadata": {},
   "outputs": [
    {
     "data": {
      "text/html": [
       "<table>\n",
       "<caption>A data.frame: 6 × 2</caption>\n",
       "<thead>\n",
       "\t<tr><th></th><th scope=col>height</th><th scope=col>gpa</th></tr>\n",
       "\t<tr><th></th><th scope=col>&lt;dbl&gt;</th><th scope=col>&lt;dbl&gt;</th></tr>\n",
       "</thead>\n",
       "<tbody>\n",
       "\t<tr><th scope=row>1</th><td>66.0</td><td>2.90</td></tr>\n",
       "\t<tr><th scope=row>2</th><td>57.0</td><td>3.16</td></tr>\n",
       "\t<tr><th scope=row>3</th><td>64.5</td><td>3.62</td></tr>\n",
       "\t<tr><th scope=row>4</th><td>62.0</td><td>2.00</td></tr>\n",
       "\t<tr><th scope=row>5</th><td>69.5</td><td>3.45</td></tr>\n",
       "\t<tr><th scope=row>6</th><td>65.0</td><td>2.80</td></tr>\n",
       "</tbody>\n",
       "</table>\n"
      ],
      "text/latex": [
       "A data.frame: 6 × 2\n",
       "\\begin{tabular}{r|ll}\n",
       "  & height & gpa\\\\\n",
       "  & <dbl> & <dbl>\\\\\n",
       "\\hline\n",
       "\t1 & 66.0 & 2.90\\\\\n",
       "\t2 & 57.0 & 3.16\\\\\n",
       "\t3 & 64.5 & 3.62\\\\\n",
       "\t4 & 62.0 & 2.00\\\\\n",
       "\t5 & 69.5 & 3.45\\\\\n",
       "\t6 & 65.0 & 2.80\\\\\n",
       "\\end{tabular}\n"
      ],
      "text/markdown": [
       "\n",
       "A data.frame: 6 × 2\n",
       "\n",
       "| <!--/--> | height &lt;dbl&gt; | gpa &lt;dbl&gt; |\n",
       "|---|---|---|\n",
       "| 1 | 66.0 | 2.90 |\n",
       "| 2 | 57.0 | 3.16 |\n",
       "| 3 | 64.5 | 3.62 |\n",
       "| 4 | 62.0 | 2.00 |\n",
       "| 5 | 69.5 | 3.45 |\n",
       "| 6 | 65.0 | 2.80 |\n",
       "\n"
      ],
      "text/plain": [
       "  height gpa \n",
       "1 66.0   2.90\n",
       "2 57.0   3.16\n",
       "3 64.5   3.62\n",
       "4 62.0   2.00\n",
       "5 69.5   3.45\n",
       "6 65.0   2.80"
      ]
     },
     "metadata": {},
     "output_type": "display_data"
    }
   ],
   "source": [
    "# heightgpa is a tab-delimited data file.\n",
    "# Student height (inches) and academic performance (gpa) for n=35 students.\n",
    "path <- 'C:/Users/rmummiga/Documents/DATA FILES/REGRESSION_STATS_501/STAT501_Lesson01//heightgpa.txt'\n",
    "heightgpa <- read.table(path, sep = '\\t', header = TRUE)\n",
    "head(heightgpa)"
   ]
  },
  {
   "cell_type": "code",
   "execution_count": 7,
   "metadata": {},
   "outputs": [
    {
     "data": {
      "text/html": [
       "<table>\n",
       "<caption>A data.frame: 6 × 5</caption>\n",
       "<thead>\n",
       "\t<tr><th></th><th scope=col>HAge</th><th scope=col>HHght</th><th scope=col>WAge</th><th scope=col>WHght</th><th scope=col>HAgeMar</th></tr>\n",
       "\t<tr><th></th><th scope=col>&lt;dbl&gt;</th><th scope=col>&lt;dbl&gt;</th><th scope=col>&lt;dbl&gt;</th><th scope=col>&lt;dbl&gt;</th><th scope=col>&lt;dbl&gt;</th></tr>\n",
       "</thead>\n",
       "<tbody>\n",
       "\t<tr><th scope=row>1</th><td>30</td><td>100</td><td>24</td><td>27</td><td>11</td></tr>\n",
       "\t<tr><th scope=row>2</th><td> 6</td><td>109</td><td>10</td><td>22</td><td> 5</td></tr>\n",
       "\t<tr><th scope=row>3</th><td>21</td><td> 22</td><td>12</td><td>33</td><td>23</td></tr>\n",
       "\t<tr><th scope=row>4</th><td>33</td><td> 82</td><td>38</td><td>16</td><td>12</td></tr>\n",
       "\t<tr><th scope=row>5</th><td>39</td><td>  9</td><td>33</td><td> 3</td><td>16</td></tr>\n",
       "\t<tr><th scope=row>6</th><td>13</td><td> 38</td><td> 9</td><td>41</td><td> 9</td></tr>\n",
       "</tbody>\n",
       "</table>\n"
      ],
      "text/latex": [
       "A data.frame: 6 × 5\n",
       "\\begin{tabular}{r|lllll}\n",
       "  & HAge & HHght & WAge & WHght & HAgeMar\\\\\n",
       "  & <dbl> & <dbl> & <dbl> & <dbl> & <dbl>\\\\\n",
       "\\hline\n",
       "\t1 & 30 & 100 & 24 & 27 & 11\\\\\n",
       "\t2 &  6 & 109 & 10 & 22 &  5\\\\\n",
       "\t3 & 21 &  22 & 12 & 33 & 23\\\\\n",
       "\t4 & 33 &  82 & 38 & 16 & 12\\\\\n",
       "\t5 & 39 &   9 & 33 &  3 & 16\\\\\n",
       "\t6 & 13 &  38 &  9 & 41 &  9\\\\\n",
       "\\end{tabular}\n"
      ],
      "text/markdown": [
       "\n",
       "A data.frame: 6 × 5\n",
       "\n",
       "| <!--/--> | HAge &lt;dbl&gt; | HHght &lt;dbl&gt; | WAge &lt;dbl&gt; | WHght &lt;dbl&gt; | HAgeMar &lt;dbl&gt; |\n",
       "|---|---|---|---|---|---|\n",
       "| 1 | 30 | 100 | 24 | 27 | 11 |\n",
       "| 2 |  6 | 109 | 10 | 22 |  5 |\n",
       "| 3 | 21 |  22 | 12 | 33 | 23 |\n",
       "| 4 | 33 |  82 | 38 | 16 | 12 |\n",
       "| 5 | 39 |   9 | 33 |  3 | 16 |\n",
       "| 6 | 13 |  38 |  9 | 41 |  9 |\n",
       "\n"
      ],
      "text/plain": [
       "  HAge HHght WAge WHght HAgeMar\n",
       "1 30   100   24   27    11     \n",
       "2  6   109   10   22     5     \n",
       "3 21    22   12   33    23     \n",
       "4 33    82   38   16    12     \n",
       "5 39     9   33    3    16     \n",
       "6 13    38    9   41     9     "
      ]
     },
     "metadata": {},
     "output_type": "display_data"
    }
   ],
   "source": [
    "# husbandwife is a tab-delimited data file.\n",
    "# Husband and wife age and height for n=218 couples.\n",
    "# Note the \"*\" in data represents null. \n",
    "# Transform the variables from # character to numerics.\n",
    "path <- 'C:/Users/rmummiga/Documents/DATA FILES/REGRESSION_STATS_501/STAT501_Lesson01//husbandwife.txt'\n",
    "husbandwife <- read.table(path, sep = '\\t', header = TRUE)\n",
    "husbandwife[husbandwife == \"*\"] <- NA\n",
    "husbandwife <- transform(husbandwife, HAge = as.numeric(HAge))\n",
    "husbandwife <- transform(husbandwife, HHght = as.numeric(HHght))\n",
    "husbandwife <- transform(husbandwife, WAge = as.numeric(WAge))\n",
    "husbandwife <- transform(husbandwife, WHght = as.numeric(WHght))\n",
    "husbandwife <- transform(husbandwife, HAgeMar = as.numeric(HAgeMar))\n",
    "head(husbandwife)"
   ]
  },
  {
   "cell_type": "code",
   "execution_count": 8,
   "metadata": {},
   "outputs": [
    {
     "data": {
      "text/html": [
       "<table>\n",
       "<caption>A data.frame: 6 × 6</caption>\n",
       "<thead>\n",
       "\t<tr><th></th><th scope=col>Location</th><th scope=col>PovPct</th><th scope=col>Brth15to17</th><th scope=col>Brth18to19</th><th scope=col>ViolCrime</th><th scope=col>TeenBrth</th></tr>\n",
       "\t<tr><th></th><th scope=col>&lt;fct&gt;</th><th scope=col>&lt;dbl&gt;</th><th scope=col>&lt;dbl&gt;</th><th scope=col>&lt;dbl&gt;</th><th scope=col>&lt;dbl&gt;</th><th scope=col>&lt;dbl&gt;</th></tr>\n",
       "</thead>\n",
       "<tbody>\n",
       "\t<tr><th scope=row>1</th><td>Alabama   </td><td>20.1</td><td>31.5</td><td> 88.7</td><td>11.2</td><td>54.5</td></tr>\n",
       "\t<tr><th scope=row>2</th><td>Alaska    </td><td> 7.1</td><td>18.9</td><td> 73.7</td><td> 9.1</td><td>39.5</td></tr>\n",
       "\t<tr><th scope=row>3</th><td>Arizona   </td><td>16.1</td><td>35.0</td><td>102.5</td><td>10.4</td><td>61.2</td></tr>\n",
       "\t<tr><th scope=row>4</th><td>Arkansas  </td><td>14.9</td><td>31.6</td><td>101.7</td><td>10.4</td><td>59.9</td></tr>\n",
       "\t<tr><th scope=row>5</th><td>California</td><td>16.7</td><td>22.6</td><td> 69.1</td><td>11.2</td><td>41.1</td></tr>\n",
       "\t<tr><th scope=row>6</th><td>Colorado  </td><td> 8.8</td><td>26.2</td><td> 79.1</td><td> 5.8</td><td>47.0</td></tr>\n",
       "</tbody>\n",
       "</table>\n"
      ],
      "text/latex": [
       "A data.frame: 6 × 6\n",
       "\\begin{tabular}{r|llllll}\n",
       "  & Location & PovPct & Brth15to17 & Brth18to19 & ViolCrime & TeenBrth\\\\\n",
       "  & <fct> & <dbl> & <dbl> & <dbl> & <dbl> & <dbl>\\\\\n",
       "\\hline\n",
       "\t1 & Alabama    & 20.1 & 31.5 &  88.7 & 11.2 & 54.5\\\\\n",
       "\t2 & Alaska     &  7.1 & 18.9 &  73.7 &  9.1 & 39.5\\\\\n",
       "\t3 & Arizona    & 16.1 & 35.0 & 102.5 & 10.4 & 61.2\\\\\n",
       "\t4 & Arkansas   & 14.9 & 31.6 & 101.7 & 10.4 & 59.9\\\\\n",
       "\t5 & California & 16.7 & 22.6 &  69.1 & 11.2 & 41.1\\\\\n",
       "\t6 & Colorado   &  8.8 & 26.2 &  79.1 &  5.8 & 47.0\\\\\n",
       "\\end{tabular}\n"
      ],
      "text/markdown": [
       "\n",
       "A data.frame: 6 × 6\n",
       "\n",
       "| <!--/--> | Location &lt;fct&gt; | PovPct &lt;dbl&gt; | Brth15to17 &lt;dbl&gt; | Brth18to19 &lt;dbl&gt; | ViolCrime &lt;dbl&gt; | TeenBrth &lt;dbl&gt; |\n",
       "|---|---|---|---|---|---|---|\n",
       "| 1 | Alabama    | 20.1 | 31.5 |  88.7 | 11.2 | 54.5 |\n",
       "| 2 | Alaska     |  7.1 | 18.9 |  73.7 |  9.1 | 39.5 |\n",
       "| 3 | Arizona    | 16.1 | 35.0 | 102.5 | 10.4 | 61.2 |\n",
       "| 4 | Arkansas   | 14.9 | 31.6 | 101.7 | 10.4 | 59.9 |\n",
       "| 5 | California | 16.7 | 22.6 |  69.1 | 11.2 | 41.1 |\n",
       "| 6 | Colorado   |  8.8 | 26.2 |  79.1 |  5.8 | 47.0 |\n",
       "\n"
      ],
      "text/plain": [
       "  Location   PovPct Brth15to17 Brth18to19 ViolCrime TeenBrth\n",
       "1 Alabama    20.1   31.5        88.7      11.2      54.5    \n",
       "2 Alaska      7.1   18.9        73.7       9.1      39.5    \n",
       "3 Arizona    16.1   35.0       102.5      10.4      61.2    \n",
       "4 Arkansas   14.9   31.6       101.7      10.4      59.9    \n",
       "5 California 16.7   22.6        69.1      11.2      41.1    \n",
       "6 Colorado    8.8   26.2        79.1       5.8      47.0    "
      ]
     },
     "metadata": {},
     "output_type": "display_data"
    }
   ],
   "source": [
    "# poverty is a tab-delimited data file.\n",
    "# Poverty rate, teen birth rate for n=51 U.S. states (including D.C.).\n",
    "path <- 'C:/Users/rmummiga/Documents/DATA FILES/REGRESSION_STATS_501/STAT501_Lesson01/poverty.txt'\n",
    "poverty <- read.table(path, sep = '\\t', header = TRUE)\n",
    "head(poverty)"
   ]
  },
  {
   "cell_type": "markdown",
   "metadata": {},
   "source": [
    "# What is Simple Linear Regression (SLR)?\n",
    "\n",
    "Simple linear regression is statistical method that allows us to summarize and study **relationships between two continuous (quantitative) variables**:  \n",
    "(1) One variable, denoted by x, is regarded as the predictor, explanatory, or independent variable.  \n",
    "(2) Second variable, denoted by y , is regarded as the response, outcome, or dependent variable.  \n",
    "\n",
    "Simple linear regression gets its adjective \"simple,\" because it concerns the study of only one predictor variable. In contrast, multiple linear regression, which we study later in this course, gets its adjective \"multiple,\" because it concerns the study of two or more predictor variables  \n",
    "\n",
    "Here is an example of a statistical relationship. Data set skincancer records one observation per U.S. state (n=49). The response variable mort is the mortality due to skin cancer (number of deaths per 10 million people) and the explanatory variable lat is the latitude (degrees North) at the center of each of 49 states in the U.S."
   ]
  },
  {
   "cell_type": "code",
   "execution_count": 9,
   "metadata": {},
   "outputs": [
    {
     "name": "stderr",
     "output_type": "stream",
     "text": [
      "`geom_smooth()` using formula 'y ~ x'\n",
      "\n"
     ]
    },
    {
     "data": {
      "image/png": "[encoded data removed]",
      "text/plain": [
       "plot without title"
      ]
     },
     "metadata": {
      "image/png": {
       "height": 420,
       "width": 420
      },
      "text/plain": {
       "height": 420,
       "width": 420
      }
     },
     "output_type": "display_data"
    }
   ],
   "source": [
    "ggplot(skincancer, aes(y=Mort, x=Lat))+\n",
    "  annotate(\"text\", x = 30, y = 250, label = \"y^ = 389.2 - 5.98x\") +\n",
    "  geom_point() +\n",
    "  geom_smooth(method = \"lm\") +\n",
    "  ylab(\"Mortality (Deaths per 10 million)\") +\n",
    "  xlab(\"Latitude (at center of state)\") +\n",
    "  ggtitle(\"Skin Cancer Mortality versus State Latitude\")"
   ]
  },
  {
   "cell_type": "markdown",
   "metadata": {},
   "source": [
    "You might anticipate that if you lived in the higher latitudes of the northern U.S., the less exposed you'd be to the harmful rays of the sun, and therefore, the less risk you'd have of death due to skin cancer. The scatter plot supports such a hypothesis. There appears to be a negative linear relationship between latitude and mortality due to skin cancer, but the relationship is not perfect. Indeed, the plot exhibits some **trend,** but it also exhibits some **scatter.** Therefore, it is a statistical relationship, not a deterministic one."
   ]
  },
  {
   "cell_type": "markdown",
   "metadata": {},
   "source": [
    "Some other examples of statistical relationships might include:  \n",
    "Height and weight — as height increases, you'd expect the weight to increase, but not perfectly.  \n",
    "Alcohol consumed and blood alcohol content — as alcohol consumption increases, you'd expect one's blood alcohol content to increase, but not perfectly.  \n",
    "Vital lung capacity and pack-years of smoking — as the amount of smoking increases (as quantified by the number of pack-years of smoking), you'd expect lung function (as quantified by vital lung capacity) to decrease, but not perfectly.  \n",
    "Driving speed and gas mileage — as driving speed increases, you'd expect gas mileage to decrease, but not perfectly."
   ]
  },
  {
   "cell_type": "markdown",
   "metadata": {},
   "source": [
    "# What is the \"Best Fitting Line\"?  \n",
    "\n",
    "The difference between the actual value and the predicted value is the residual ei=yi−yi^. Ordinary Least Squares (OLS) minimizes the sum of squared residuals. The resulting least squares line passes through the point (x¯,y¯).This is the **best fitting line**\n",
    "\n",
    "In the skincancer example, the fitted line was Mort ~ Lat. The parameter estimator for lat is -5.98, meaning one additional degree of northerly latitude is associated with 5.98 less deaths per 10 million of population."
   ]
  },
  {
   "cell_type": "code",
   "execution_count": 10,
   "metadata": {},
   "outputs": [
    {
     "data": {
      "text/plain": [
       "\n",
       "Call:\n",
       "lm(formula = Mort ~ Lat, data = skincancer)\n",
       "\n",
       "Residuals:\n",
       "    Min      1Q  Median      3Q     Max \n",
       "-38.972 -13.185   0.972  12.006  43.938 \n",
       "\n",
       "Coefficients:\n",
       "            Estimate Std. Error t value Pr(>|t|)    \n",
       "(Intercept) 389.1894    23.8123   16.34  < 2e-16 ***\n",
       "Lat          -5.9776     0.5984   -9.99 3.31e-13 ***\n",
       "---\n",
       "Signif. codes:  0 '***' 0.001 '**' 0.01 '*' 0.05 '.' 0.1 ' ' 1\n",
       "\n",
       "Residual standard error: 19.12 on 47 degrees of freedom\n",
       "Multiple R-squared:  0.6798,\tAdjusted R-squared:  0.673 \n",
       "F-statistic:  99.8 on 1 and 47 DF,  p-value: 3.309e-13\n"
      ]
     },
     "metadata": {},
     "output_type": "display_data"
    }
   ],
   "source": [
    "summary(lm(Mort ~ Lat, data = skincancer))"
   ]
  },
  {
   "cell_type": "markdown",
   "metadata": {},
   "source": [
    "Consider another example, the relationship between weight and height. Data set student_height_weight records one observation per student (n=10). The response variable ht is the student height (inches) and the explanatory variable wt is the student weight (pounds)."
   ]
  },
  {
   "cell_type": "code",
   "execution_count": 11,
   "metadata": {},
   "outputs": [
    {
     "name": "stderr",
     "output_type": "stream",
     "text": [
      "`geom_smooth()` using formula 'y ~ x'\n",
      "\n"
     ]
    },
    {
     "data": {
      "image/png": "[encoded data removed]",
      "text/plain": [
       "plot without title"
      ]
     },
     "metadata": {
      "image/png": {
       "height": 420,
       "width": 420
      },
      "text/plain": {
       "height": 420,
       "width": 420
      }
     },
     "output_type": "display_data"
    }
   ],
   "source": [
    "ggplot(student, aes(y=wt, x=ht)) +\n",
    "  geom_point() +\n",
    "  geom_smooth(method = \"lm\") +\n",
    "  ylab(\"Weight (lbs)\") +\n",
    "  xlab(\"Height (inches)\") +\n",
    "  ggtitle(\"Weight versus Height\")"
   ]
  },
  {
   "cell_type": "markdown",
   "metadata": {},
   "source": [
    "In this example, the fitted line is wt ~ ht. The parameter estimator for ht is 6.1376, meaning each additional inch of height is associated with 6.14 additional pounds of weight among the population of students targeted in the sample."
   ]
  },
  {
   "cell_type": "code",
   "execution_count": 12,
   "metadata": {},
   "outputs": [
    {
     "data": {
      "text/plain": [
       "\n",
       "Call:\n",
       "lm(formula = wt ~ ht, data = student)\n",
       "\n",
       "Residuals:\n",
       "     Min       1Q   Median       3Q      Max \n",
       "-13.2339  -4.0804  -0.0963   4.6445  14.2158 \n",
       "\n",
       "Coefficients:\n",
       "             Estimate Std. Error t value Pr(>|t|)    \n",
       "(Intercept) -266.5344    51.0320  -5.223    8e-04 ***\n",
       "ht             6.1376     0.7353   8.347 3.21e-05 ***\n",
       "---\n",
       "Signif. codes:  0 '***' 0.001 '**' 0.01 '*' 0.05 '.' 0.1 ' ' 1\n",
       "\n",
       "Residual standard error: 8.641 on 8 degrees of freedom\n",
       "Multiple R-squared:  0.897,\tAdjusted R-squared:  0.8841 \n",
       "F-statistic: 69.67 on 1 and 8 DF,  p-value: 3.214e-05\n"
      ]
     },
     "metadata": {},
     "output_type": "display_data"
    }
   ],
   "source": [
    "summary(lm(wt ~ ht, data = student))"
   ]
  },
  {
   "cell_type": "markdown",
   "metadata": {},
   "source": [
    "# The Simple Linear Regression Model"
   ]
  },
  {
   "attachments": {
    "SLR.JPG": {
     "image/jpeg": "[encoded data removed]"
    }
   },
   "cell_type": "markdown",
   "metadata": {},
   "source": [
    "**The formal definition of Simple Linear Regression:**  \n",
    "\n",
    "Let n pairs of observations (𝑥𝑖, 𝑦𝑖), i = 1, 2, …, n, be available on two features, one of which is assumed to depend on the other. Typically Y denotes the dependent variable and X the independent variable. Let the quantity 𝐸(𝑌) denote the expected or mean value of 𝑌.\n",
    "\n",
    "Simple linear regression relates the response Y to the single predictor variable X through a straight line. The mathematical formulation of the simple linear regression line is: **𝐸(𝑌)=𝛽0 +𝛽1 𝑋** where,\n",
    "𝑌: is the value of the continuous response (or dependent) variable,\n",
    "𝛽0 and 𝛽1: are intercept and slope coefficients, respectively, and known as the regression parameters.\n",
    "𝑋: represents the independent (predictor) variable continuous in nature.  \n",
    "\n",
    "It is assumed that the expected value of the response is a linear function of the predictor.When 𝛽0 and 𝛽1are known, a given value of the predictor will specify the expected value of the response.However, since Y is a random variable, not all values 𝑦𝑖 will be equal to 𝐸(𝑌).   \n",
    "\n",
    "Another form of SLR equation is **𝑌𝑖=𝛽0 +𝛽1 𝑋𝑖 + 𝜀𝑖, i = 1, 2, …,n**  \n",
    "𝜖: represents the unobservable error term. Note that error here does not indicate any mistake, simply the difference between the expected and observed values of the response.  \n",
    "\n",
    "The error terms provide crucial insight into the regression process.  \n",
    "\n",
    "**The method of Ordinary Least Square (OLS)** \n",
    "\n",
    "The simple linear regression model involves unknown parameters 𝛽0 and 𝛽1, which need to be estimated from data. There are several different methods of estimating the parameters. The simplest and the most widely used method is known as the Ordinary Least Squares method (OLS).  \n",
    "\n",
    "Given 𝑛 pairs of observations on 𝑌 and 𝑋, the objective is to minimise the sum of squared errors and thus get appropriate estimates of 𝛽0 and 𝛽1. We want to minimise **Σ𝜖𝑖2𝑛𝑖=1=Σ(𝑌𝑖−𝛽0−𝛽1𝑋𝑖)2𝑛𝑖=1.**\n",
    "\n",
    "![SLR.JPG](attachment:SLR.JPG)\n",
    "\n",
    "As the plot above suggests, the least squares regression line y^=b0+b1x through the sample of 12 data points estimates the population regression line μY=E(Y)=β0+β1x. That is, the sample intercept b0 estimates the population intercept β0 and the sample slope b1 estimates the population slope β1.  \n",
    "\n",
    "**Assumptions of Linear Regression**  \n",
    "The least squares regression line doesn't match the population regression line perfectly, but it is a pretty good estimate. \n",
    "In order to draw any conclusions about the population parameters β0 and β1, we have to make a few more assumptions about the behavior of the data in a regression setting.  \n",
    "\n",
    "There are four conditions that comprise \"the simple linear regression model:  \n",
    "**(1)Linear Function:** The mean of the response, E(Yi), at each value of the predictor, xi, is a Linear function of the xi.  \n",
    "**(2)Independent:** The errors, ϵi, are Independent.  \n",
    "**(3)Normally Distributed:** The errors, ϵi, at each value of the predictor, xi, are Normally distributed.  \n",
    "**(4)Equal variances (denoted σ2):** The errors, ϵi, at each value of the predictor, xi, have Equal variances (denoted σ2).  \n",
    "\n",
    "An equivalent way to think of the first (linearity) condition is that the mean of the error, E(ϵi), at each value of the predictor, xi, is zero. \n",
    "\n",
    "**An alternative way to describe all four assumptions is that the errors, ϵi, are independent normal random variables with mean zero and constant variance, σ2.**"
   ]
  },
  {
   "cell_type": "markdown",
   "metadata": {},
   "source": [
    "# What is The Common Error Variance? \n",
    "\n",
    "The common error variance σ2 is estimated by the mean squared error **MSE=∑(yi−yi^)2/(n−2)** where the numerator is the sum of squared errors (SSE). The n-2 is the degrees of freedom (2 for the intercept + explanatory variable)"
   ]
  },
  {
   "cell_type": "code",
   "execution_count": 15,
   "metadata": {},
   "outputs": [
    {
     "name": "stderr",
     "output_type": "stream",
     "text": [
      "`geom_smooth()` using formula 'y ~ x'\n",
      "\n"
     ]
    },
    {
     "data": {
      "image/png": "[encoded data removed]",
      "text/plain": [
       "plot without title"
      ]
     },
     "metadata": {
      "image/png": {
       "height": 420,
       "width": 420
      },
      "text/plain": {
       "height": 420,
       "width": 420
      }
     },
     "output_type": "display_data"
    }
   ],
   "source": [
    "ggplot(student, aes(y=wt, x=ht)) +\n",
    "  geom_point() +\n",
    "  geom_smooth(method = \"lm\") +\n",
    "  ylab(\"Weight (lbs)\") +\n",
    "  xlab(\"Height (inches)\") +\n",
    "  ggtitle(\"Regression Plot : wt = 266.5 - 6.138ht \")"
   ]
  },
  {
   "cell_type": "code",
   "execution_count": 16,
   "metadata": {},
   "outputs": [
    {
     "data": {
      "text/plain": [
       "\n",
       "Call:\n",
       "lm(formula = wt ~ ht, data = student)\n",
       "\n",
       "Residuals:\n",
       "     Min       1Q   Median       3Q      Max \n",
       "-13.2339  -4.0804  -0.0963   4.6445  14.2158 \n",
       "\n",
       "Coefficients:\n",
       "             Estimate Std. Error t value Pr(>|t|)    \n",
       "(Intercept) -266.5344    51.0320  -5.223    8e-04 ***\n",
       "ht             6.1376     0.7353   8.347 3.21e-05 ***\n",
       "---\n",
       "Signif. codes:  0 '***' 0.001 '**' 0.01 '*' 0.05 '.' 0.1 ' ' 1\n",
       "\n",
       "Residual standard error: 8.641 on 8 degrees of freedom\n",
       "Multiple R-squared:  0.897,\tAdjusted R-squared:  0.8841 \n",
       "F-statistic: 69.67 on 1 and 8 DF,  p-value: 3.214e-05\n"
      ]
     },
     "metadata": {},
     "output_type": "display_data"
    }
   ],
   "source": [
    "summary(lm(wt ~ ht, data = student))"
   ]
  },
  {
   "cell_type": "markdown",
   "metadata": {},
   "source": [
    "The estimate of σ2 shows up in the summary of the \"Regression Model\".  \n",
    "\n",
    "For example, for the student height and weight data (Student Height Weight data), the **\"Residual standard error S=8.641\"**, is the square root of MSE.  \n",
    "\n",
    "That is, in general, S=sqrt(MSE), which estimates **σ** and is known as the **regression standard error or the residual standard error**. \n",
    "\n",
    "The Summary of the Regression Model tells us, therefore, that **MSE=(8.641)^2 =74.67.**"
   ]
  },
  {
   "cell_type": "code",
   "execution_count": 20,
   "metadata": {},
   "outputs": [
    {
     "data": {
      "text/html": [
       "<table>\n",
       "<caption>A anova: 2 × 5</caption>\n",
       "<thead>\n",
       "\t<tr><th></th><th scope=col>Df</th><th scope=col>Sum Sq</th><th scope=col>Mean Sq</th><th scope=col>F value</th><th scope=col>Pr(&gt;F)</th></tr>\n",
       "\t<tr><th></th><th scope=col>&lt;int&gt;</th><th scope=col>&lt;dbl&gt;</th><th scope=col>&lt;dbl&gt;</th><th scope=col>&lt;dbl&gt;</th><th scope=col>&lt;dbl&gt;</th></tr>\n",
       "</thead>\n",
       "<tbody>\n",
       "\t<tr><th scope=row>ht</th><td>1</td><td>5202.214</td><td>5202.21405</td><td>69.66637</td><td>3.213764e-05</td></tr>\n",
       "\t<tr><th scope=row>Residuals</th><td>8</td><td> 597.386</td><td>  74.67324</td><td>      NA</td><td>          NA</td></tr>\n",
       "</tbody>\n",
       "</table>\n"
      ],
      "text/latex": [
       "A anova: 2 × 5\n",
       "\\begin{tabular}{r|lllll}\n",
       "  & Df & Sum Sq & Mean Sq & F value & Pr(>F)\\\\\n",
       "  & <int> & <dbl> & <dbl> & <dbl> & <dbl>\\\\\n",
       "\\hline\n",
       "\tht & 1 & 5202.214 & 5202.21405 & 69.66637 & 3.213764e-05\\\\\n",
       "\tResiduals & 8 &  597.386 &   74.67324 &       NA &           NA\\\\\n",
       "\\end{tabular}\n"
      ],
      "text/markdown": [
       "\n",
       "A anova: 2 × 5\n",
       "\n",
       "| <!--/--> | Df &lt;int&gt; | Sum Sq &lt;dbl&gt; | Mean Sq &lt;dbl&gt; | F value &lt;dbl&gt; | Pr(&gt;F) &lt;dbl&gt; |\n",
       "|---|---|---|---|---|---|\n",
       "| ht | 1 | 5202.214 | 5202.21405 | 69.66637 | 3.213764e-05 |\n",
       "| Residuals | 8 |  597.386 |   74.67324 |       NA |           NA |\n",
       "\n"
      ],
      "text/plain": [
       "          Df Sum Sq   Mean Sq    F value  Pr(>F)      \n",
       "ht        1  5202.214 5202.21405 69.66637 3.213764e-05\n",
       "Residuals 8   597.386   74.67324       NA           NA"
      ]
     },
     "metadata": {},
     "output_type": "display_data"
    }
   ],
   "source": [
    "anova(lm(wt ~ ht, data = student))"
   ]
  },
  {
   "cell_type": "markdown",
   "metadata": {},
   "source": [
    "In the Analysis of Variance table, the value of MSE, 74.67, appears appropriately under the column labeled Mean Sq (for Mean Square) and in the row labeled Residuals."
   ]
  },
  {
   "cell_type": "markdown",
   "metadata": {},
   "source": [
    "# The Coefficient of Determination, r2  \n",
    "\n",
    "The coefficient of determination R2 is a summary measure that explains how well the sample regression line fits the data. The rationale and computation of R2 is discussed below:  \n",
    "\n",
    "Let *𝑌𝑖̂=𝛽̂0+𝛽̂1𝑋𝑖* &*𝑌̅=1/𝑛(Σ𝑌𝑖𝑛𝑖=1)*. 𝑌𝑖̂ is the estimated value of the response, for a given value of the predictor 𝑋𝑖. \n",
    "\n",
    "Not all predicted values of the response will be equal to the observed value 𝑌𝑖.  \n",
    "\n",
    "In fact it may well happen that none of the estimated values of the response coincides with the corresponding observed values.The difference between the observed and the estimated values of the response is called residual. \n",
    "Residual is the estimated value of the unobserved error component in the regression equation.*𝜖̂𝑖 = 𝑌𝑖 - 𝑌̂𝑖*  \n",
    "\n",
    "Residuals are very important part of regression and they have many useful properties.  \n",
    "\n",
    "Σ(𝑌𝑖2−𝑌̅)2𝑛𝑖=1: is the total variation of the actual 𝑌 about their sample mean and termed as the total sum of squares (SST). This is closely linked to the sample variance of Y.  \n",
    "\n",
    "Σ(𝑌̂𝑖−𝑌̅)2𝑛𝑖=1 : is the sum of squares due to regression and is called regression sum of squares (SSR)  \n",
    "\n",
    "Σ𝜖̂𝑖2𝑛𝑖=1=Σ(𝑌𝑖−𝑌̂𝑖)2𝑛𝑖=1 : is the sum of squared differences between the observed and the predicted values of the response. This is known as the residual sum of squares or the error sum of squares (SSE)  \n",
    "\n",
    "**𝑆𝑆𝑇=𝑆𝑆𝑅+𝑆𝑆𝐸**  \n",
    "\n",
    "**1=𝑆𝑆𝑅/𝑆𝑆𝑇+𝑆𝑆𝐸/𝑆𝑆𝑇 (on dividing SST on both sides)**  \n",
    "\n",
    "**We now define R2 as : R2=𝑆𝑆𝑅/𝑆𝑆𝑇 or R2=1− 𝑆𝑆𝐸/𝑆𝑆𝑇**\n",
    "\n",
    "The numerical value of 𝑅2 is equal to the square of the correlation coefficient between the response and the predictor only if there is a single predictor in the linear regression model, i.e. for simple linear regression only.\n",
    "𝑅2 measures the proportion of the total variation in 𝑌 that is explained by the regression model. \n",
    "\n",
    "It ranges from 0≤𝑅2≤1. The higher the value of 𝑅2, the more powerful is the predictor to predict the response.  \n",
    "\n",
    "A regression model with high 𝑅2 value indicates that the model fits the data well. In that case a high proportion of variance in the response is explained by the dependence of the response on the predictor.\n"
   ]
  },
  {
   "cell_type": "markdown",
   "metadata": {},
   "source": [
    "### Characteristics of r2  \n",
    "Here are some basic characteristics of the measure:  \n",
    "(1) Since r2 is a proportion, it is always a number between 0 and 1. \n",
    "\n",
    "(2) If r2 = 1, all of the data points fall perfectly on the regression line. The predictor x accounts for all of the variation in y!   \n",
    "\n",
    "(3) If r2 = 0, the estimated regression line is perfectly horizontal. The predictor x accounts for none of the variation in y!\n",
    "\n",
    "### Interpretation of r2  \n",
    "\n",
    "We've learned the interpretation for the two easy cases — when r2 = 0 or r2 = 1 — but, how do we interpret r2 when it is some number between 0 and 1, like 0.23 or 0.57, say? Here are two similar, yet slightly different, ways in which the coefficient of determination r2 can be interpreted. \n",
    "We say either:  \n",
    "(1) \"r2×100 percent of the variation in y is reduced by taking into account predictor x\"\n",
    "or:  \n",
    "(2) \"r2×100 percent of the variation in y is 'explained by' the variation in predictor x.\"\n",
    "\n",
    "Many statisticians prefer the first interpretation.  The risk with using the second interpretation is that it can be misunderstood as suggesting that the predictor x causes the change in the response y.   \n",
    "\n",
    "Association is not causation. That is, just because a dataset is characterized by having a large r-squared value, it does not imply that x causes the changes in y. As long as you keep the correct meaning in mind, it is fine to use the second interpretation. \n",
    "\n",
    "A variation on the second interpretation is to say, \"r2×100 percent of the variation in y is accounted for by the variation in predictor x.\""
   ]
  },
  {
   "cell_type": "markdown",
   "metadata": {},
   "source": [
    "Let's revisit the skin cancer mortality example (Skin Cancer Data). Any statistical software that performs a simple linear regression analysis will report the r-squared value for you."
   ]
  },
  {
   "cell_type": "code",
   "execution_count": 26,
   "metadata": {},
   "outputs": [
    {
     "name": "stdout",
     "output_type": "stream",
     "text": [
      "[1] \"Regression Model Summary\"\n"
     ]
    },
    {
     "data": {
      "text/plain": [
       "\n",
       "Call:\n",
       "lm(formula = Mort ~ Lat, data = skincancer)\n",
       "\n",
       "Residuals:\n",
       "    Min      1Q  Median      3Q     Max \n",
       "-38.972 -13.185   0.972  12.006  43.938 \n",
       "\n",
       "Coefficients:\n",
       "            Estimate Std. Error t value Pr(>|t|)    \n",
       "(Intercept) 389.1894    23.8123   16.34  < 2e-16 ***\n",
       "Lat          -5.9776     0.5984   -9.99 3.31e-13 ***\n",
       "---\n",
       "Signif. codes:  0 '***' 0.001 '**' 0.01 '*' 0.05 '.' 0.1 ' ' 1\n",
       "\n",
       "Residual standard error: 19.12 on 47 degrees of freedom\n",
       "Multiple R-squared:  0.6798,\tAdjusted R-squared:  0.673 \n",
       "F-statistic:  99.8 on 1 and 47 DF,  p-value: 3.309e-13\n"
      ]
     },
     "metadata": {},
     "output_type": "display_data"
    },
    {
     "name": "stdout",
     "output_type": "stream",
     "text": [
      "[1] \"Regression Analysis of Variance\"\n"
     ]
    },
    {
     "data": {
      "text/html": [
       "<table>\n",
       "<caption>A anova: 2 × 5</caption>\n",
       "<thead>\n",
       "\t<tr><th></th><th scope=col>Df</th><th scope=col>Sum Sq</th><th scope=col>Mean Sq</th><th scope=col>F value</th><th scope=col>Pr(&gt;F)</th></tr>\n",
       "\t<tr><th></th><th scope=col>&lt;int&gt;</th><th scope=col>&lt;dbl&gt;</th><th scope=col>&lt;dbl&gt;</th><th scope=col>&lt;dbl&gt;</th><th scope=col>&lt;dbl&gt;</th></tr>\n",
       "</thead>\n",
       "<tbody>\n",
       "\t<tr><th scope=row>Lat</th><td> 1</td><td>36464.20</td><td>36464.2002</td><td>99.79683</td><td>3.309456e-13</td></tr>\n",
       "\t<tr><th scope=row>Residuals</th><td>47</td><td>17173.07</td><td>  365.3844</td><td>      NA</td><td>          NA</td></tr>\n",
       "</tbody>\n",
       "</table>\n"
      ],
      "text/latex": [
       "A anova: 2 × 5\n",
       "\\begin{tabular}{r|lllll}\n",
       "  & Df & Sum Sq & Mean Sq & F value & Pr(>F)\\\\\n",
       "  & <int> & <dbl> & <dbl> & <dbl> & <dbl>\\\\\n",
       "\\hline\n",
       "\tLat &  1 & 36464.20 & 36464.2002 & 99.79683 & 3.309456e-13\\\\\n",
       "\tResiduals & 47 & 17173.07 &   365.3844 &       NA &           NA\\\\\n",
       "\\end{tabular}\n"
      ],
      "text/markdown": [
       "\n",
       "A anova: 2 × 5\n",
       "\n",
       "| <!--/--> | Df &lt;int&gt; | Sum Sq &lt;dbl&gt; | Mean Sq &lt;dbl&gt; | F value &lt;dbl&gt; | Pr(&gt;F) &lt;dbl&gt; |\n",
       "|---|---|---|---|---|---|\n",
       "| Lat |  1 | 36464.20 | 36464.2002 | 99.79683 | 3.309456e-13 |\n",
       "| Residuals | 47 | 17173.07 |   365.3844 |       NA |           NA |\n",
       "\n"
      ],
      "text/plain": [
       "          Df Sum Sq   Mean Sq    F value  Pr(>F)      \n",
       "Lat        1 36464.20 36464.2002 99.79683 3.309456e-13\n",
       "Residuals 47 17173.07   365.3844       NA           NA"
      ]
     },
     "metadata": {},
     "output_type": "display_data"
    }
   ],
   "source": [
    "print(\"Regression Model Summary\")\n",
    "summary(lm(Mort ~ Lat, data = skincancer))\n",
    "\n",
    "print(\"Regression Analysis of Variance\")\n",
    "anova(lm(Mort ~ Lat, data = skincancer))"
   ]
  },
  {
   "cell_type": "markdown",
   "metadata": {},
   "source": [
    "In the skin cancer example above, R-squared(r2) =.6798 i.e. 67.98%\n",
    "\n",
    "We can say that 68% of the variation in the skin cancer mortality rate is reduced by taking into account latitude. \n",
    "\n",
    "Or  \n",
    "\n",
    "We can say that 68% of the variation in skin cancer mortality is 'due to' or is 'explained by' latitude."
   ]
  },
  {
   "cell_type": "markdown",
   "metadata": {},
   "source": [
    "# (Pearson) Correlation Coefficient, r \n",
    "\n",
    "The correlation coefficient, r, is directly related to the coefficient of determination r2. \n",
    "\n",
    "If r2 is represented in decimal form, e.g. 0.39 or 0.87, then all we have to do to obtain r is to take the square root of r2 , with sign equal to that of the slope parameter b1 of the regression line.  \n",
    "\n",
    "If b1 is negative, then r takes a negative sign.\n",
    "\n",
    "If b1 is positive, then r takes a positive sign.\n",
    "\n",
    "This implies that, the estimated slope (b1) and the correlation coefficient (r) always share the same sign. \n",
    "\n",
    "Furthermore, because r2 is always a number between 0 and 1, the correlation coefficient r is always a number between -1 and 1.\n",
    "\n",
    "One advantage of r is that it is unitless, allowing researchers to make sense of correlation coefficients calculated on different data sets with different units\n",
    "\n",
    "If the estimated slope b1 of the regression line is 0, then the correlation coefficient r must also be 0"
   ]
  },
  {
   "cell_type": "markdown",
   "metadata": {},
   "source": [
    "The Pearson correlation coeficient in the skin cancer example is sqrt(.6798) i.e. **−.825** since the slope of the \"Lat\" parameter is \"negative\""
   ]
  },
  {
   "cell_type": "code",
   "execution_count": 27,
   "metadata": {},
   "outputs": [
    {
     "data": {
      "text/plain": [
       "\n",
       "Call:\n",
       "lm(formula = Mort ~ Lat, data = skincancer)\n",
       "\n",
       "Residuals:\n",
       "    Min      1Q  Median      3Q     Max \n",
       "-38.972 -13.185   0.972  12.006  43.938 \n",
       "\n",
       "Coefficients:\n",
       "            Estimate Std. Error t value Pr(>|t|)    \n",
       "(Intercept) 389.1894    23.8123   16.34  < 2e-16 ***\n",
       "Lat          -5.9776     0.5984   -9.99 3.31e-13 ***\n",
       "---\n",
       "Signif. codes:  0 '***' 0.001 '**' 0.01 '*' 0.05 '.' 0.1 ' ' 1\n",
       "\n",
       "Residual standard error: 19.12 on 47 degrees of freedom\n",
       "Multiple R-squared:  0.6798,\tAdjusted R-squared:  0.673 \n",
       "F-statistic:  99.8 on 1 and 47 DF,  p-value: 3.309e-13\n"
      ]
     },
     "metadata": {},
     "output_type": "display_data"
    }
   ],
   "source": [
    "summary(lm(Mort ~ Lat, data = skincancer)) # summary of linear model"
   ]
  },
  {
   "cell_type": "code",
   "execution_count": 29,
   "metadata": {},
   "outputs": [
    {
     "data": {
      "text/html": [
       "-0.824517793780073"
      ],
      "text/latex": [
       "-0.824517793780073"
      ],
      "text/markdown": [
       "-0.824517793780073"
      ],
      "text/plain": [
       "[1] -0.8245178"
      ]
     },
     "metadata": {},
     "output_type": "display_data"
    }
   ],
   "source": [
    "cor(skincancer$Mort, skincancer$Lat) # correlation coefficient"
   ]
  },
  {
   "cell_type": "markdown",
   "metadata": {},
   "source": [
    "### Examples of Correlation Coefficients"
   ]
  },
  {
   "cell_type": "markdown",
   "metadata": {},
   "source": [
    "#### Building Heights\n",
    "Consider the example, the relationship between building height and the number of stories. \n",
    "\n",
    "Data set bldgstories records one observation per building (n=60). \n",
    "\n",
    "The response variable HGHT is the building height (feet) and the explanatory variable STORIES is the number of floors in the building.\n",
    "\n",
    "**The Model summary reports r2 = 0.9036.** \n",
    "\n",
    "**The Pearson correlation coeficient r = 0.951 indicates a strong positive linear relationship.**\n",
    "\n",
    "**The relationship is positive. As the # of Stories increase, the Building Height increases (linearly)**"
   ]
  },
  {
   "cell_type": "code",
   "execution_count": 40,
   "metadata": {},
   "outputs": [
    {
     "data": {
      "text/plain": [
       "\n",
       "Call:\n",
       "lm(formula = HGHT ~ STORIES, data = bldgstories)\n",
       "\n",
       "Residuals:\n",
       "     Min       1Q   Median       3Q      Max \n",
       "-156.759  -33.239    5.995   28.450  167.487 \n",
       "\n",
       "Coefficients:\n",
       "            Estimate Std. Error t value Pr(>|t|)    \n",
       "(Intercept)  90.3096    20.9622   4.308 6.44e-05 ***\n",
       "STORIES      11.2924     0.4844  23.310  < 2e-16 ***\n",
       "---\n",
       "Signif. codes:  0 '***' 0.001 '**' 0.01 '*' 0.05 '.' 0.1 ' ' 1\n",
       "\n",
       "Residual standard error: 58.33 on 58 degrees of freedom\n",
       "Multiple R-squared:  0.9036,\tAdjusted R-squared:  0.9019 \n",
       "F-statistic: 543.4 on 1 and 58 DF,  p-value: < 2.2e-16\n"
      ]
     },
     "metadata": {},
     "output_type": "display_data"
    }
   ],
   "source": [
    "summary(lm(HGHT~STORIES , data = bldgstories))"
   ]
  },
  {
   "cell_type": "code",
   "execution_count": 41,
   "metadata": {},
   "outputs": [
    {
     "name": "stderr",
     "output_type": "stream",
     "text": [
      "`geom_smooth()` using formula 'y ~ x'\n",
      "\n"
     ]
    },
    {
     "data": {
      "image/png": "[encoded data removed]",
      "text/plain": [
       "plot without title"
      ]
     },
     "metadata": {
      "image/png": {
       "height": 420,
       "width": 420
      },
      "text/plain": {
       "height": 420,
       "width": 420
      }
     },
     "output_type": "display_data"
    }
   ],
   "source": [
    "ggplot(bldgstories, aes(y=HGHT, x=STORIES)) +\n",
    "  geom_point() +\n",
    "  geom_smooth(method = \"lm\") +\n",
    "  ylab(\"Height\") +\n",
    "  xlab(\"Stories\") +\n",
    "  labs(title = \"Height v/s Stories\",\n",
    "              subtitle = \"Regression Plot : HGHT = 90.306 + 11.292*STORIES\")"
   ]
  },
  {
   "cell_type": "code",
   "execution_count": 42,
   "metadata": {},
   "outputs": [
    {
     "data": {
      "text/html": [
       "0.950554894262773"
      ],
      "text/latex": [
       "0.950554894262773"
      ],
      "text/markdown": [
       "0.950554894262773"
      ],
      "text/plain": [
       "[1] 0.9505549"
      ]
     },
     "metadata": {},
     "output_type": "display_data"
    }
   ],
   "source": [
    "cor(bldgstories$HGHT, bldgstories$STORIES)"
   ]
  },
  {
   "cell_type": "markdown",
   "metadata": {},
   "source": [
    "#### Driver age v/s distance of sight  \n",
    "Consider an example, the relationship between driver age and the distance at which the driver can read a road sign. Data set signdist records one observation per driver (n=30). \n",
    "\n",
    "The response variable Distance is the maximum distance (feet) at which the driver can still read a road sign height and the explanatory variable Age is the driver’s age (years).  \n",
    "\n",
    "**The Model summary reports r2 = 0.642.** \n",
    "\n",
    "**The Pearson correlation coeficient r = -0.801 indicates a fairly strong negative linear relationship.**\n",
    "\n",
    "**The relationship is negative. As the Driver's Ageincreases, the Maximum distance for reading a road sign decreases (linearly)**"
   ]
  },
  {
   "cell_type": "code",
   "execution_count": 43,
   "metadata": {},
   "outputs": [
    {
     "data": {
      "text/plain": [
       "\n",
       "Call:\n",
       "lm(formula = Distance ~ Age, data = signdist)\n",
       "\n",
       "Residuals:\n",
       "    Min      1Q  Median      3Q     Max \n",
       "-78.231 -41.710   7.646  33.552 108.831 \n",
       "\n",
       "Coefficients:\n",
       "            Estimate Std. Error t value Pr(>|t|)    \n",
       "(Intercept) 576.6819    23.4709  24.570  < 2e-16 ***\n",
       "Age          -3.0068     0.4243  -7.086 1.04e-07 ***\n",
       "---\n",
       "Signif. codes:  0 '***' 0.001 '**' 0.01 '*' 0.05 '.' 0.1 ' ' 1\n",
       "\n",
       "Residual standard error: 49.76 on 28 degrees of freedom\n",
       "Multiple R-squared:  0.642,\tAdjusted R-squared:  0.6292 \n",
       "F-statistic: 50.21 on 1 and 28 DF,  p-value: 1.041e-07\n"
      ]
     },
     "metadata": {},
     "output_type": "display_data"
    }
   ],
   "source": [
    "summary(lm(Distance~Age , data = signdist))"
   ]
  },
  {
   "cell_type": "code",
   "execution_count": 44,
   "metadata": {},
   "outputs": [
    {
     "name": "stderr",
     "output_type": "stream",
     "text": [
      "`geom_smooth()` using formula 'y ~ x'\n",
      "\n"
     ]
    },
    {
     "data": {
      "image/png": "[encoded data removed]",
      "text/plain": [
       "plot without title"
      ]
     },
     "metadata": {
      "image/png": {
       "height": 420,
       "width": 420
      },
      "text/plain": {
       "height": 420,
       "width": 420
      }
     },
     "output_type": "display_data"
    }
   ],
   "source": [
    "ggplot(signdist, aes(y=Distance, x=Age)) +\n",
    "  geom_point() +\n",
    "  geom_smooth(method = \"lm\") +\n",
    "  ylab(\"Distance\") +\n",
    "  xlab(\"Driver's Age\") +\n",
    "  labs(title = \"Distance v/s Driver's Age\",\n",
    "              subtitle = \"Regression Plot : Distance = 576.68 - 3.006*Age\")"
   ]
  },
  {
   "cell_type": "code",
   "execution_count": 45,
   "metadata": {},
   "outputs": [
    {
     "data": {
      "text/html": [
       "-0.801244650940787"
      ],
      "text/latex": [
       "-0.801244650940787"
      ],
      "text/markdown": [
       "-0.801244650940787"
      ],
      "text/plain": [
       "[1] -0.8012447"
      ]
     },
     "metadata": {},
     "output_type": "display_data"
    }
   ],
   "source": [
    "cor(signdist$Distance, signdist$Age)"
   ]
  },
  {
   "cell_type": "markdown",
   "metadata": {},
   "source": [
    "#### Student Height and Acedamic Performance GPA  \n",
    "Consider an example, the relationship between student height and academic performance grade point average.  \n",
    "\n",
    "Data set heightgpa records one observation per student (n=35).  \n",
    "\n",
    "The response variable gpa measures academic performance and the explanatory variable height is the student’s height (inches).\n",
    "\n",
    "**The Model summary reports r2 = 0.0.003.** \n",
    "\n",
    "**The Pearson correlation coeficient r = -0.053 indicates no linear relationship (as expected!)**\n",
    "\n",
    "**The r2 value tells us that only 0.3% of the variation in the grade point averages of the students in the sample can be explained by their height. In short, we would need to identify another more important variable, such as number of hours studied, if predicting a student's grade point average is important to us**"
   ]
  },
  {
   "cell_type": "code",
   "execution_count": 46,
   "metadata": {},
   "outputs": [
    {
     "data": {
      "text/plain": [
       "\n",
       "Call:\n",
       "lm(formula = gpa ~ height, data = heightgpa)\n",
       "\n",
       "Residuals:\n",
       "     Min       1Q   Median       3Q      Max \n",
       "-1.45081 -0.24878  0.00325  0.35622  0.90263 \n",
       "\n",
       "Coefficients:\n",
       "             Estimate Std. Error t value Pr(>|t|)  \n",
       "(Intercept)  3.410214   1.434616   2.377   0.0234 *\n",
       "height      -0.006563   0.021428  -0.306   0.7613  \n",
       "---\n",
       "Signif. codes:  0 '***' 0.001 '**' 0.01 '*' 0.05 '.' 0.1 ' ' 1\n",
       "\n",
       "Residual standard error: 0.5423 on 33 degrees of freedom\n",
       "Multiple R-squared:  0.002835,\tAdjusted R-squared:  -0.02738 \n",
       "F-statistic: 0.09381 on 1 and 33 DF,  p-value: 0.7613\n"
      ]
     },
     "metadata": {},
     "output_type": "display_data"
    }
   ],
   "source": [
    "summary(lm(gpa~height , data = heightgpa))"
   ]
  },
  {
   "cell_type": "code",
   "execution_count": 48,
   "metadata": {},
   "outputs": [
    {
     "name": "stderr",
     "output_type": "stream",
     "text": [
      "`geom_smooth()` using formula 'y ~ x'\n",
      "\n"
     ]
    },
    {
     "data": {
      "image/png": "[encoded data removed]",
      "text/plain": [
       "plot without title"
      ]
     },
     "metadata": {
      "image/png": {
       "height": 420,
       "width": 420
      },
      "text/plain": {
       "height": 420,
       "width": 420
      }
     },
     "output_type": "display_data"
    }
   ],
   "source": [
    "ggplot(heightgpa, aes(y=gpa, x=height)) +\n",
    "  geom_point() +\n",
    "  geom_smooth(method = \"lm\") +\n",
    "  ylab(\"GPA\") +\n",
    "  xlab(\"Student's Height\") +\n",
    "  labs(title = \"GPA v/s Student's Height\",\n",
    "              subtitle = \"Regression Plot : GPA = 3.41 - 0.006*Height\")"
   ]
  },
  {
   "cell_type": "code",
   "execution_count": 49,
   "metadata": {},
   "outputs": [
    {
     "data": {
      "text/html": [
       "-0.0532412598869199"
      ],
      "text/latex": [
       "-0.0532412598869199"
      ],
      "text/markdown": [
       "-0.0532412598869199"
      ],
      "text/plain": [
       "[1] -0.05324126"
      ]
     },
     "metadata": {},
     "output_type": "display_data"
    }
   ],
   "source": [
    "cor(heightgpa$gpa, heightgpa$height)"
   ]
  },
  {
   "attachments": {
    "Ecological.JPG": {
     "image/jpeg": "[encoded data removed]"
    }
   },
   "cell_type": "markdown",
   "metadata": {},
   "source": [
    "# r2 Cautions  \n",
    "Unfortunately, the coefficient of determination r2 and the correlation coefficient r have to be the most often misused and misunderstood measures in the field of statistics. To ensure that you don't fall victim to the most common mistakes, we review a set of seven different cautions here  \n",
    "\n",
    "**Caution 1**  \n",
    "The coefficient of determination r2 and the correlation coefficient r quantify the strength of a linear relationship. It is possible that r2 = 0% and r = 0, suggesting there is no linear relation between x and y, and yet a perfect curved (or \"curvilinear\" relationship) exists.\n",
    "\n",
    "**Caution 2**  \n",
    "A large r2 value should not be interpreted as meaning that the estimated regression line fits the data well. Another function might better describe the trend in the data.  \n",
    "\n",
    "**Caution 3**  \n",
    "The coefficient of determination r2 and the correlation coefficient r can both be greatly affected by just one data point (or a few data points) i.e. sensitive outliers and leverage points.  \n",
    "\n",
    "**Caution 4**   \n",
    "Correlation (or association) does not imply causation. \n",
    "Association between the predictor x and response y should not be interpreted as implying that x causes the changes in y. There are many possible reasons for why there is an association between x and y, including:\n",
    "* The predictor x does indeed cause the changes in the response y.  \n",
    "* The causal relation may instead be reversed. That is, the response y may cause the changes in the predictor x.  \n",
    "* The predictor x is a contributing but not sole cause of changes in the response variable y.  \n",
    "* There may be a \"lurking variable\" that is the real cause of changes in y but also is associated with x, thus giving rise to the observed relationship between x and y.  \n",
    "* The association may be purely coincidental\n",
    "\n",
    "**Caution 5** \n",
    "Ecological correlations — correlations that are based on rates or averages — tend to overstate the strength of an association.\n",
    "![Ecological.JPG](attachment:Ecological.JPG)\n",
    "\n",
    "The correlation between wine consumption and heart disease deaths of 0.71 is an ecological correlation.The units are countries, not individuals.   \n",
    "The correlation between skin cancer mortality and state latitude of 0.68 is also an ecological correlation. The units are states, again not individuals.   \n",
    "In both cases, we should not use these correlations to try to draw a conclusion about how an individual's wine consumption or suntanning behavior will affect their individual risk of dying from heart disease or skin cancer.   \n",
    "We shouldn't try to draw such conclusions anyway, because \"association is not causation.\" \n",
    "\n",
    "**Caution 6**  \n",
    "A \"statistically significant\" r2 value does not imply that the slope β1 is meaningfully different from 0.  \n",
    "\n",
    "In general, the larger the data set, the easier it is to reject the null hypothesis and claim \"statistical significance.\" If the data set is very large, it is even possible to reject the null hypothesis and claim that the slope β1 is not 0, even when it is not practically or meaningfully different from 0. It is possible to get a significant P-value when β1 is 0.13, a quantity that is likely not to be considered meaningfully different from 0.\n",
    "The key here is that \"statistical significance does not imply practical significance.\"  \n",
    "\n",
    "**Caution 7** \n",
    "A large r2 value does not necessarily mean that a useful prediction of the response ynew, or estimation of the mean response μY, can be made. It is still possible to get prediction intervals or confidence intervals that are too wide to be useful."
   ]
  },
  {
   "cell_type": "markdown",
   "metadata": {},
   "source": [
    "## Examples of Cautions abour r2"
   ]
  },
  {
   "cell_type": "markdown",
   "metadata": {},
   "source": [
    "#### A large r2 value does not imply that the estimated regression line fits the data well. \n",
    "\n",
    "The American Automobile Association has published data (Defensive Driving: Managing Time and Space, 1991) that looks at the relationship between the average stopping distance ( y = distance, in feet) and the speed of a car (x = speed, in miles per hour). The data set Car Stopping data contains 63 such data points.  \n",
    "* Create a fitted line plot of the data. \n",
    "* Does a line do a good job of describing the trend in the data? \n",
    "* Interpret the r2 value. \n",
    "* Does car speed explain a large portion of the variability in the average stopping distance? i.e.is the r2 value large? \n",
    "* Summarize how the title of this section is appropriate"
   ]
  },
  {
   "cell_type": "code",
   "execution_count": 50,
   "metadata": {},
   "outputs": [
    {
     "data": {
      "text/html": [
       "<table>\n",
       "<caption>A data.frame: 6 × 2</caption>\n",
       "<thead>\n",
       "\t<tr><th></th><th scope=col>Speed</th><th scope=col>Distance</th></tr>\n",
       "\t<tr><th></th><th scope=col>&lt;int&gt;</th><th scope=col>&lt;int&gt;</th></tr>\n",
       "</thead>\n",
       "<tbody>\n",
       "\t<tr><th scope=row>1</th><td> 0</td><td>  0</td></tr>\n",
       "\t<tr><th scope=row>2</th><td>10</td><td> 20</td></tr>\n",
       "\t<tr><th scope=row>3</th><td>20</td><td> 50</td></tr>\n",
       "\t<tr><th scope=row>4</th><td>30</td><td> 95</td></tr>\n",
       "\t<tr><th scope=row>5</th><td>40</td><td>150</td></tr>\n",
       "\t<tr><th scope=row>6</th><td>50</td><td>220</td></tr>\n",
       "</tbody>\n",
       "</table>\n"
      ],
      "text/latex": [
       "A data.frame: 6 × 2\n",
       "\\begin{tabular}{r|ll}\n",
       "  & Speed & Distance\\\\\n",
       "  & <int> & <int>\\\\\n",
       "\\hline\n",
       "\t1 &  0 &   0\\\\\n",
       "\t2 & 10 &  20\\\\\n",
       "\t3 & 20 &  50\\\\\n",
       "\t4 & 30 &  95\\\\\n",
       "\t5 & 40 & 150\\\\\n",
       "\t6 & 50 & 220\\\\\n",
       "\\end{tabular}\n"
      ],
      "text/markdown": [
       "\n",
       "A data.frame: 6 × 2\n",
       "\n",
       "| <!--/--> | Speed &lt;int&gt; | Distance &lt;int&gt; |\n",
       "|---|---|---|\n",
       "| 1 |  0 |   0 |\n",
       "| 2 | 10 |  20 |\n",
       "| 3 | 20 |  50 |\n",
       "| 4 | 30 |  95 |\n",
       "| 5 | 40 | 150 |\n",
       "| 6 | 50 | 220 |\n",
       "\n"
      ],
      "text/plain": [
       "  Speed Distance\n",
       "1  0      0     \n",
       "2 10     20     \n",
       "3 20     50     \n",
       "4 30     95     \n",
       "5 40    150     \n",
       "6 50    220     "
      ]
     },
     "metadata": {},
     "output_type": "display_data"
    }
   ],
   "source": [
    "# Car Stopping Data.\n",
    "# Speed (MPH) and Distance(Feet) for n=63.\n",
    "path = 'C:/Users/rmummiga/Documents/DATA FILES/REGRESSION_STATS_501/STAT501_Lesson01/carstopping.txt'\n",
    "carstop <- read.table(path, sep = '\\t', header = TRUE)\n",
    "head(carstop)"
   ]
  },
  {
   "cell_type": "code",
   "execution_count": 54,
   "metadata": {},
   "outputs": [
    {
     "name": "stdout",
     "output_type": "stream",
     "text": [
      "[1] \"Regression Model Summary\"\n"
     ]
    },
    {
     "data": {
      "text/plain": [
       "\n",
       "Call:\n",
       "lm(formula = Distance ~ Speed, data = carstop)\n",
       "\n",
       "Residuals:\n",
       "    Min      1Q  Median      3Q     Max \n",
       "-32.738 -22.351  -7.738  16.622  47.083 \n",
       "\n",
       "Coefficients:\n",
       "            Estimate Std. Error t value Pr(>|t|)    \n",
       "(Intercept) -44.1667    22.0821   -2.00   0.0924 .  \n",
       "Speed         5.6726     0.5279   10.75 3.84e-05 ***\n",
       "---\n",
       "Signif. codes:  0 '***' 0.001 '**' 0.01 '*' 0.05 '.' 0.1 ' ' 1\n",
       "\n",
       "Residual standard error: 34.21 on 6 degrees of freedom\n",
       "Multiple R-squared:  0.9506,\tAdjusted R-squared:  0.9424 \n",
       "F-statistic: 115.5 on 1 and 6 DF,  p-value: 3.837e-05\n"
      ]
     },
     "metadata": {},
     "output_type": "display_data"
    },
    {
     "name": "stdout",
     "output_type": "stream",
     "text": [
      "[1] \"Regression Analysis of Variance\"\n"
     ]
    },
    {
     "data": {
      "text/html": [
       "<table>\n",
       "<caption>A anova: 2 × 5</caption>\n",
       "<thead>\n",
       "\t<tr><th></th><th scope=col>Df</th><th scope=col>Sum Sq</th><th scope=col>Mean Sq</th><th scope=col>F value</th><th scope=col>Pr(&gt;F)</th></tr>\n",
       "\t<tr><th></th><th scope=col>&lt;int&gt;</th><th scope=col>&lt;dbl&gt;</th><th scope=col>&lt;dbl&gt;</th><th scope=col>&lt;dbl&gt;</th><th scope=col>&lt;dbl&gt;</th></tr>\n",
       "</thead>\n",
       "<tbody>\n",
       "\t<tr><th scope=row>Speed</th><td>1</td><td>135150.149</td><td>135150.149</td><td>115.4846</td><td>3.836656e-05</td></tr>\n",
       "\t<tr><th scope=row>Residuals</th><td>6</td><td>  7021.726</td><td>  1170.288</td><td>      NA</td><td>          NA</td></tr>\n",
       "</tbody>\n",
       "</table>\n"
      ],
      "text/latex": [
       "A anova: 2 × 5\n",
       "\\begin{tabular}{r|lllll}\n",
       "  & Df & Sum Sq & Mean Sq & F value & Pr(>F)\\\\\n",
       "  & <int> & <dbl> & <dbl> & <dbl> & <dbl>\\\\\n",
       "\\hline\n",
       "\tSpeed & 1 & 135150.149 & 135150.149 & 115.4846 & 3.836656e-05\\\\\n",
       "\tResiduals & 6 &   7021.726 &   1170.288 &       NA &           NA\\\\\n",
       "\\end{tabular}\n"
      ],
      "text/markdown": [
       "\n",
       "A anova: 2 × 5\n",
       "\n",
       "| <!--/--> | Df &lt;int&gt; | Sum Sq &lt;dbl&gt; | Mean Sq &lt;dbl&gt; | F value &lt;dbl&gt; | Pr(&gt;F) &lt;dbl&gt; |\n",
       "|---|---|---|---|---|---|\n",
       "| Speed | 1 | 135150.149 | 135150.149 | 115.4846 | 3.836656e-05 |\n",
       "| Residuals | 6 |   7021.726 |   1170.288 |       NA |           NA |\n",
       "\n"
      ],
      "text/plain": [
       "          Df Sum Sq     Mean Sq    F value  Pr(>F)      \n",
       "Speed     1  135150.149 135150.149 115.4846 3.836656e-05\n",
       "Residuals 6    7021.726   1170.288       NA           NA"
      ]
     },
     "metadata": {},
     "output_type": "display_data"
    },
    {
     "name": "stdout",
     "output_type": "stream",
     "text": [
      "[1] \"Correlation Between Speed and Stipping Distance\"\n"
     ]
    },
    {
     "data": {
      "text/html": [
       "0.97499282244827"
      ],
      "text/latex": [
       "0.97499282244827"
      ],
      "text/markdown": [
       "0.97499282244827"
      ],
      "text/plain": [
       "[1] 0.9749928"
      ]
     },
     "metadata": {},
     "output_type": "display_data"
    },
    {
     "name": "stderr",
     "output_type": "stream",
     "text": [
      "`geom_smooth()` using formula 'y ~ x'\n",
      "\n"
     ]
    },
    {
     "data": {
      "image/png": "[encoded data removed]",
      "text/plain": [
       "plot without title"
      ]
     },
     "metadata": {
      "image/png": {
       "height": 420,
       "width": 420
      },
      "text/plain": {
       "height": 420,
       "width": 420
      }
     },
     "output_type": "display_data"
    }
   ],
   "source": [
    "print(\"Regression Model Summary\")\n",
    "summary(lm(Distance~Speed , data = carstop))\n",
    "\n",
    "print(\"Regression Analysis of Variance\")\n",
    "anova(lm(Distance~Speed , data = carstop))\n",
    "\n",
    "print(\"Correlation Between Speed and Stipping Distance\")\n",
    "cor(carstop$Distance, carstop$Speed)\n",
    "\n",
    "ggplot(carstop, aes(y=Distance, x=Speed)) +\n",
    "  geom_point() +\n",
    "  geom_smooth(method = \"lm\") +\n",
    "  ylab(\"Distance in Feet\") +\n",
    "  xlab(\"Speed in MPH\") +\n",
    "  labs(title = \"Car Stopping Distance v/s Speed\",\n",
    "              subtitle = \"Regression Plot : Distance = -44.166 + 5.676*Speed\")"
   ]
  },
  {
   "cell_type": "markdown",
   "metadata": {},
   "source": [
    "**Inference**  \n",
    "\n",
    "1.1 - The plot shows a strong positive association between Stopping Distance and Speed that curves upwards slightly.\n",
    "\n",
    "1.2 - Coefficient of Determination R2 = 95.1% of the sample variation in y = Stopping Distance can be explained by the variation in x = Speed. This is a relatively large value.\n",
    "\n",
    "1.3 - The value of Correlation co-efficient r2 (97.44) is relatively high but the estimated regression line misses the curvature in the data."
   ]
  },
  {
   "cell_type": "markdown",
   "metadata": {},
   "source": [
    "#### One data point can greatly affect the r2 value  \n",
    "The McCoo dataset contains data on the running back Eric McCoo's rushing yards (mccoo) for each game of the 1998 Penn State football season. It also contains Penn State's final score (score). \n",
    "\n",
    "Create a fitted line plot.  \n",
    "Interpret the r2 value, and note its size.   \n",
    "Remove the one data point in which McCoo ran 206 yards. Then, create another fitted line plot on the reduced data set. Interpret the r2 value.  \n",
    "Upon removing the one data point, what happened to the r2 value?  "
   ]
  },
  {
   "cell_type": "code",
   "execution_count": 59,
   "metadata": {},
   "outputs": [
    {
     "data": {
      "text/html": [
       "<table>\n",
       "<caption>A data.frame: 6 × 2</caption>\n",
       "<thead>\n",
       "\t<tr><th></th><th scope=col>McCoo</th><th scope=col>Score</th></tr>\n",
       "\t<tr><th></th><th scope=col>&lt;int&gt;</th><th scope=col>&lt;int&gt;</th></tr>\n",
       "</thead>\n",
       "<tbody>\n",
       "\t<tr><th scope=row>1</th><td> 51</td><td>34</td></tr>\n",
       "\t<tr><th scope=row>2</th><td> 52</td><td>48</td></tr>\n",
       "\t<tr><th scope=row>3</th><td> 21</td><td>20</td></tr>\n",
       "\t<tr><th scope=row>4</th><td>  2</td><td> 9</td></tr>\n",
       "\t<tr><th scope=row>5</th><td> 56</td><td>27</td></tr>\n",
       "\t<tr><th scope=row>6</th><td>163</td><td>31</td></tr>\n",
       "</tbody>\n",
       "</table>\n"
      ],
      "text/latex": [
       "A data.frame: 6 × 2\n",
       "\\begin{tabular}{r|ll}\n",
       "  & McCoo & Score\\\\\n",
       "  & <int> & <int>\\\\\n",
       "\\hline\n",
       "\t1 &  51 & 34\\\\\n",
       "\t2 &  52 & 48\\\\\n",
       "\t3 &  21 & 20\\\\\n",
       "\t4 &   2 &  9\\\\\n",
       "\t5 &  56 & 27\\\\\n",
       "\t6 & 163 & 31\\\\\n",
       "\\end{tabular}\n"
      ],
      "text/markdown": [
       "\n",
       "A data.frame: 6 × 2\n",
       "\n",
       "| <!--/--> | McCoo &lt;int&gt; | Score &lt;int&gt; |\n",
       "|---|---|---|\n",
       "| 1 |  51 | 34 |\n",
       "| 2 |  52 | 48 |\n",
       "| 3 |  21 | 20 |\n",
       "| 4 |   2 |  9 |\n",
       "| 5 |  56 | 27 |\n",
       "| 6 | 163 | 31 |\n",
       "\n"
      ],
      "text/plain": [
       "  McCoo Score\n",
       "1  51   34   \n",
       "2  52   48   \n",
       "3  21   20   \n",
       "4   2    9   \n",
       "5  56   27   \n",
       "6 163   31   "
      ]
     },
     "metadata": {},
     "output_type": "display_data"
    },
    {
     "name": "stdout",
     "output_type": "stream",
     "text": [
      "     McCoo            Score      \n",
      " Min.   :  2.00   Min.   : 0.00  \n",
      " 1st Qu.: 34.00   1st Qu.:14.50  \n",
      " Median : 52.00   Median :27.00  \n",
      " Mean   : 74.73   Mean   :26.45  \n",
      " 3rd Qu.:109.00   3rd Qu.:37.50  \n",
      " Max.   :206.00   Max.   :51.00  \n"
     ]
    }
   ],
   "source": [
    "# McCoo Data.\n",
    "# Rushing Yards(McCoo) Final Score(Score).\n",
    "path = 'C:/Users/rmummiga/Documents/DATA FILES/REGRESSION_STATS_501/STAT501_Lesson01/mccoo.txt'\n",
    "mccoo <- read.table(path, sep = '\\t', header = TRUE)\n",
    "head(mccoo)\n",
    "print(summary(mccoo))"
   ]
  },
  {
   "cell_type": "code",
   "execution_count": 64,
   "metadata": {},
   "outputs": [
    {
     "name": "stdout",
     "output_type": "stream",
     "text": [
      "[1] \"Regression Model Summary\"\n"
     ]
    },
    {
     "data": {
      "text/plain": [
       "\n",
       "Call:\n",
       "lm(formula = Score ~ McCoo, data = mccoo)\n",
       "\n",
       "Residuals:\n",
       "    Min      1Q  Median      3Q     Max \n",
       "-25.581  -7.470   2.993   8.621  24.516 \n",
       "\n",
       "Coefficients:\n",
       "            Estimate Std. Error t value Pr(>|t|)  \n",
       "(Intercept) 16.68846    7.36724   2.265   0.0497 *\n",
       "McCoo        0.13069    0.07557   1.729   0.1178  \n",
       "---\n",
       "Signif. codes:  0 '***' 0.001 '**' 0.01 '*' 0.05 '.' 0.1 ' ' 1\n",
       "\n",
       "Residual standard error: 15.69 on 9 degrees of freedom\n",
       "Multiple R-squared:  0.2494,\tAdjusted R-squared:  0.166 \n",
       "F-statistic: 2.991 on 1 and 9 DF,  p-value: 0.1178\n"
      ]
     },
     "metadata": {},
     "output_type": "display_data"
    },
    {
     "name": "stdout",
     "output_type": "stream",
     "text": [
      "[1] \"Regression Analysis of Variance\"\n"
     ]
    },
    {
     "data": {
      "text/html": [
       "<table>\n",
       "<caption>A anova: 2 × 5</caption>\n",
       "<thead>\n",
       "\t<tr><th></th><th scope=col>Df</th><th scope=col>Sum Sq</th><th scope=col>Mean Sq</th><th scope=col>F value</th><th scope=col>Pr(&gt;F)</th></tr>\n",
       "\t<tr><th></th><th scope=col>&lt;int&gt;</th><th scope=col>&lt;dbl&gt;</th><th scope=col>&lt;dbl&gt;</th><th scope=col>&lt;dbl&gt;</th><th scope=col>&lt;dbl&gt;</th></tr>\n",
       "</thead>\n",
       "<tbody>\n",
       "\t<tr><th scope=row>McCoo</th><td>1</td><td> 736.484</td><td>736.4840</td><td>2.990807</td><td>0.1177969</td></tr>\n",
       "\t<tr><th scope=row>Residuals</th><td>9</td><td>2216.243</td><td>246.2493</td><td>      NA</td><td>       NA</td></tr>\n",
       "</tbody>\n",
       "</table>\n"
      ],
      "text/latex": [
       "A anova: 2 × 5\n",
       "\\begin{tabular}{r|lllll}\n",
       "  & Df & Sum Sq & Mean Sq & F value & Pr(>F)\\\\\n",
       "  & <int> & <dbl> & <dbl> & <dbl> & <dbl>\\\\\n",
       "\\hline\n",
       "\tMcCoo & 1 &  736.484 & 736.4840 & 2.990807 & 0.1177969\\\\\n",
       "\tResiduals & 9 & 2216.243 & 246.2493 &       NA &        NA\\\\\n",
       "\\end{tabular}\n"
      ],
      "text/markdown": [
       "\n",
       "A anova: 2 × 5\n",
       "\n",
       "| <!--/--> | Df &lt;int&gt; | Sum Sq &lt;dbl&gt; | Mean Sq &lt;dbl&gt; | F value &lt;dbl&gt; | Pr(&gt;F) &lt;dbl&gt; |\n",
       "|---|---|---|---|---|---|\n",
       "| McCoo | 1 |  736.484 | 736.4840 | 2.990807 | 0.1177969 |\n",
       "| Residuals | 9 | 2216.243 | 246.2493 |       NA |        NA |\n",
       "\n"
      ],
      "text/plain": [
       "          Df Sum Sq   Mean Sq  F value  Pr(>F)   \n",
       "McCoo     1   736.484 736.4840 2.990807 0.1177969\n",
       "Residuals 9  2216.243 246.2493       NA        NA"
      ]
     },
     "metadata": {},
     "output_type": "display_data"
    },
    {
     "name": "stdout",
     "output_type": "stream",
     "text": [
      "[1] \"Correlation Between Final Score and Rushing Yards\"\n"
     ]
    },
    {
     "data": {
      "text/html": [
       "0.499424663709163"
      ],
      "text/latex": [
       "0.499424663709163"
      ],
      "text/markdown": [
       "0.499424663709163"
      ],
      "text/plain": [
       "[1] 0.4994247"
      ]
     },
     "metadata": {},
     "output_type": "display_data"
    },
    {
     "name": "stderr",
     "output_type": "stream",
     "text": [
      "`geom_smooth()` using formula 'y ~ x'\n",
      "\n"
     ]
    },
    {
     "data": {
      "image/png": "[encoded data removed]",
      "text/plain": [
       "plot without title"
      ]
     },
     "metadata": {
      "image/png": {
       "height": 420,
       "width": 420
      },
      "text/plain": {
       "height": 420,
       "width": 420
      }
     },
     "output_type": "display_data"
    }
   ],
   "source": [
    "print(\"Regression Model Summary\")\n",
    "summary(lm(Score~McCoo , data = mccoo))\n",
    "\n",
    "print(\"Regression Analysis of Variance\")\n",
    "anova(lm(Score~McCoo , data = mccoo))\n",
    "\n",
    "print(\"Correlation Between Final Score and Rushing Yards\")\n",
    "cor(mccoo$Score , mccoo$McCoo)\n",
    "\n",
    "ggplot(mccoo, aes(y=Score, x=McCoo)) +\n",
    "  geom_point() +\n",
    "  geom_smooth(method = \"lm\") +\n",
    "  ylab(\"Final Score\") +\n",
    "  xlab(\"MCCOO's Rushing Yards\") +\n",
    "  labs(title = \"Final Score v/s McCoos Rushing Yards\",\n",
    "              subtitle = \"Regression Plot : Final Score = 16.688 + 0.1307*McCoo\")"
   ]
  },
  {
   "cell_type": "markdown",
   "metadata": {},
   "source": [
    "**Inference**  \n",
    "The plot shows a slight positive association between the variables with R2 = 24.9% of the sample variation in y = Score explained by the variation in McCoo."
   ]
  },
  {
   "cell_type": "code",
   "execution_count": 62,
   "metadata": {},
   "outputs": [
    {
     "data": {
      "text/plain": [
       "     McCoo            Score      \n",
       " Min.   :  2.00   Min.   : 0.00  \n",
       " 1st Qu.: 27.50   1st Qu.:11.75  \n",
       " Median : 51.50   Median :27.00  \n",
       " Mean   : 61.60   Mean   :24.00  \n",
       " 3rd Qu.: 82.25   3rd Qu.:33.25  \n",
       " Max.   :163.00   Max.   :48.00  "
      ]
     },
     "metadata": {},
     "output_type": "display_data"
    }
   ],
   "source": [
    "# exclude the row where Rushing Yards = 206\n",
    "mccoo2  <- mccoo %>% filter(McCoo != 206)\n",
    "summary(mccoo2)"
   ]
  },
  {
   "cell_type": "code",
   "execution_count": 63,
   "metadata": {},
   "outputs": [
    {
     "name": "stdout",
     "output_type": "stream",
     "text": [
      "[1] \"Regression Model Summary\"\n"
     ]
    },
    {
     "data": {
      "text/plain": [
       "\n",
       "Call:\n",
       "lm(formula = Score ~ McCoo, data = mccoo2)\n",
       "\n",
       "Residuals:\n",
       "    Min      1Q  Median      3Q     Max \n",
       "-23.544  -7.826   1.499  10.141  24.831 \n",
       "\n",
       "Coefficients:\n",
       "            Estimate Std. Error t value Pr(>|t|)  \n",
       "(Intercept) 18.66961    8.23175   2.268   0.0531 .\n",
       "McCoo        0.08653    0.10445   0.828   0.4314  \n",
       "---\n",
       "Signif. codes:  0 '***' 0.001 '**' 0.01 '*' 0.05 '.' 0.1 ' ' 1\n",
       "\n",
       "Residual standard error: 16.24 on 8 degrees of freedom\n",
       "Multiple R-squared:  0.07901,\tAdjusted R-squared:  -0.03611 \n",
       "F-statistic: 0.6863 on 1 and 8 DF,  p-value: 0.4314\n"
      ]
     },
     "metadata": {},
     "output_type": "display_data"
    },
    {
     "name": "stdout",
     "output_type": "stream",
     "text": [
      "[1] \"Regression Analysis of Variance\"\n"
     ]
    },
    {
     "data": {
      "text/html": [
       "<table>\n",
       "<caption>A anova: 2 × 5</caption>\n",
       "<thead>\n",
       "\t<tr><th></th><th scope=col>Df</th><th scope=col>Sum Sq</th><th scope=col>Mean Sq</th><th scope=col>F value</th><th scope=col>Pr(&gt;F)</th></tr>\n",
       "\t<tr><th></th><th scope=col>&lt;int&gt;</th><th scope=col>&lt;dbl&gt;</th><th scope=col>&lt;dbl&gt;</th><th scope=col>&lt;dbl&gt;</th><th scope=col>&lt;dbl&gt;</th></tr>\n",
       "</thead>\n",
       "<tbody>\n",
       "\t<tr><th scope=row>McCoo</th><td>1</td><td> 736.484</td><td>736.4840</td><td>2.990807</td><td>0.1177969</td></tr>\n",
       "\t<tr><th scope=row>Residuals</th><td>9</td><td>2216.243</td><td>246.2493</td><td>      NA</td><td>       NA</td></tr>\n",
       "</tbody>\n",
       "</table>\n"
      ],
      "text/latex": [
       "A anova: 2 × 5\n",
       "\\begin{tabular}{r|lllll}\n",
       "  & Df & Sum Sq & Mean Sq & F value & Pr(>F)\\\\\n",
       "  & <int> & <dbl> & <dbl> & <dbl> & <dbl>\\\\\n",
       "\\hline\n",
       "\tMcCoo & 1 &  736.484 & 736.4840 & 2.990807 & 0.1177969\\\\\n",
       "\tResiduals & 9 & 2216.243 & 246.2493 &       NA &        NA\\\\\n",
       "\\end{tabular}\n"
      ],
      "text/markdown": [
       "\n",
       "A anova: 2 × 5\n",
       "\n",
       "| <!--/--> | Df &lt;int&gt; | Sum Sq &lt;dbl&gt; | Mean Sq &lt;dbl&gt; | F value &lt;dbl&gt; | Pr(&gt;F) &lt;dbl&gt; |\n",
       "|---|---|---|---|---|---|\n",
       "| McCoo | 1 |  736.484 | 736.4840 | 2.990807 | 0.1177969 |\n",
       "| Residuals | 9 | 2216.243 | 246.2493 |       NA |        NA |\n",
       "\n"
      ],
      "text/plain": [
       "          Df Sum Sq   Mean Sq  F value  Pr(>F)   \n",
       "McCoo     1   736.484 736.4840 2.990807 0.1177969\n",
       "Residuals 9  2216.243 246.2493       NA        NA"
      ]
     },
     "metadata": {},
     "output_type": "display_data"
    },
    {
     "name": "stdout",
     "output_type": "stream",
     "text": [
      "[1] \"Correlation Between Final Score and Rushing Yards\"\n"
     ]
    },
    {
     "data": {
      "text/html": [
       "0.281091869268598"
      ],
      "text/latex": [
       "0.281091869268598"
      ],
      "text/markdown": [
       "0.281091869268598"
      ],
      "text/plain": [
       "[1] 0.2810919"
      ]
     },
     "metadata": {},
     "output_type": "display_data"
    },
    {
     "name": "stderr",
     "output_type": "stream",
     "text": [
      "`geom_smooth()` using formula 'y ~ x'\n",
      "\n"
     ]
    },
    {
     "data": {
      "image/png": "[encoded data removed]",
      "text/plain": [
       "plot without title"
      ]
     },
     "metadata": {
      "image/png": {
       "height": 420,
       "width": 420
      },
      "text/plain": {
       "height": 420,
       "width": 420
      }
     },
     "output_type": "display_data"
    }
   ],
   "source": [
    "print(\"Regression Model Summary\")\n",
    "summary(lm(Score~McCoo , data = mccoo2))\n",
    "\n",
    "print(\"Regression Analysis of Variance\")\n",
    "anova(lm(Score~McCoo , data = mccoo))\n",
    "\n",
    "print(\"Correlation Between Final Score and Rushing Yards\")\n",
    "cor(mccoo2$Score , mccoo2$McCoo)\n",
    "\n",
    "ggplot(mccoo2, aes(y=Score, x=McCoo)) +\n",
    "  geom_point() +\n",
    "  geom_smooth(method = \"lm\") +\n",
    "  ylab(\"Final Score\") +\n",
    "  xlab(\"MCCOO's Rushing Yards < 206\") +\n",
    "  labs(title = \"Final Score v/s McCoos Rushing Yard < 206s\",\n",
    "              subtitle = \"Regression Plot : Final Score = 18.66 + 0.0.08*McCoo\")"
   ]
  },
  {
   "cell_type": "markdown",
   "metadata": {},
   "source": [
    "**Inference**  \n",
    "R2 decreases to just 7.9% on removal of the one data point with McCoo = 206 yards."
   ]
  },
  {
   "cell_type": "markdown",
   "metadata": {},
   "source": [
    "#### A large r-squared value does not necessarily imply useful predictions  \n",
    "The Old Faithful dataset contains data on 21 consecutive eruptions of Old Faithful geyser in Yellowstone National Park. It is believed that one can predict the time until the next eruption (next), given the length of time of the last eruption (duration).  \n",
    "\n",
    "* Quantify the degree of linear association between next and duration. i.e. determine and interpret the R2 value.\n",
    "\n",
    "* Obtain a 95% prediction interval for the time until the next eruption if the last eruption lasted 3 minutes. \n",
    "\n",
    "* Interpret your prediction interval. \n",
    "\n",
    "* Suppose you are a \"ratrace tourist\" who knows that you can only spend up to one hour waiting for the next eruption to occur. Is the prediction interval too wide to be helpful to you?"
   ]
  },
  {
   "cell_type": "code",
   "execution_count": 66,
   "metadata": {},
   "outputs": [
    {
     "data": {
      "text/html": [
       "<table>\n",
       "<caption>A data.frame: 6 × 2</caption>\n",
       "<thead>\n",
       "\t<tr><th></th><th scope=col>duration</th><th scope=col>next.</th></tr>\n",
       "\t<tr><th></th><th scope=col>&lt;dbl&gt;</th><th scope=col>&lt;int&gt;</th></tr>\n",
       "</thead>\n",
       "<tbody>\n",
       "\t<tr><th scope=row>1</th><td>2.0</td><td>50</td></tr>\n",
       "\t<tr><th scope=row>2</th><td>1.8</td><td>57</td></tr>\n",
       "\t<tr><th scope=row>3</th><td>3.7</td><td>55</td></tr>\n",
       "\t<tr><th scope=row>4</th><td>2.2</td><td>47</td></tr>\n",
       "\t<tr><th scope=row>5</th><td>2.1</td><td>53</td></tr>\n",
       "\t<tr><th scope=row>6</th><td>2.4</td><td>50</td></tr>\n",
       "</tbody>\n",
       "</table>\n"
      ],
      "text/latex": [
       "A data.frame: 6 × 2\n",
       "\\begin{tabular}{r|ll}\n",
       "  & duration & next.\\\\\n",
       "  & <dbl> & <int>\\\\\n",
       "\\hline\n",
       "\t1 & 2.0 & 50\\\\\n",
       "\t2 & 1.8 & 57\\\\\n",
       "\t3 & 3.7 & 55\\\\\n",
       "\t4 & 2.2 & 47\\\\\n",
       "\t5 & 2.1 & 53\\\\\n",
       "\t6 & 2.4 & 50\\\\\n",
       "\\end{tabular}\n"
      ],
      "text/markdown": [
       "\n",
       "A data.frame: 6 × 2\n",
       "\n",
       "| <!--/--> | duration &lt;dbl&gt; | next. &lt;int&gt; |\n",
       "|---|---|---|\n",
       "| 1 | 2.0 | 50 |\n",
       "| 2 | 1.8 | 57 |\n",
       "| 3 | 3.7 | 55 |\n",
       "| 4 | 2.2 | 47 |\n",
       "| 5 | 2.1 | 53 |\n",
       "| 6 | 2.4 | 50 |\n",
       "\n"
      ],
      "text/plain": [
       "  duration next.\n",
       "1 2.0      50   \n",
       "2 1.8      57   \n",
       "3 3.7      55   \n",
       "4 2.2      47   \n",
       "5 2.1      53   \n",
       "6 2.4      50   "
      ]
     },
     "metadata": {},
     "output_type": "display_data"
    },
    {
     "name": "stdout",
     "output_type": "stream",
     "text": [
      "    duration         next.      \n",
      " Min.   :1.700   Min.   :43.00  \n",
      " 1st Qu.:2.200   1st Qu.:53.00  \n",
      " Median :3.500   Median :62.00  \n",
      " Mean   :3.238   Mean   :62.71  \n",
      " 3rd Qu.:4.000   3rd Qu.:72.00  \n",
      " Max.   :4.900   Max.   :85.00  \n"
     ]
    }
   ],
   "source": [
    "# Old Faithful Data.\n",
    "# Duration of Erruption(Duration) Next Erruption(Next) for n=21.\n",
    "path = 'C:/Users/rmummiga/Documents/DATA FILES/REGRESSION_STATS_501/STAT501_Lesson01/oldfaithful.csv'\n",
    "erruptions <- read.csv(path, header = TRUE)\n",
    "head(erruptions)\n",
    "print(summary(erruptions))"
   ]
  },
  {
   "cell_type": "code",
   "execution_count": 72,
   "metadata": {},
   "outputs": [
    {
     "name": "stdout",
     "output_type": "stream",
     "text": [
      "[1] \"Regression Model Summary\"\n"
     ]
    },
    {
     "data": {
      "text/plain": [
       "\n",
       "Call:\n",
       "lm(formula = next. ~ duration, data = erruptions)\n",
       "\n",
       "Residuals:\n",
       "     Min       1Q   Median       3Q      Max \n",
       "-12.2364  -4.2364  -0.6352   5.5327   9.9316 \n",
       "\n",
       "Coefficients:\n",
       "            Estimate Std. Error t value Pr(>|t|)    \n",
       "(Intercept)   31.013      4.417   7.022 1.10e-06 ***\n",
       "duration       9.790      1.300   7.531 4.06e-07 ***\n",
       "---\n",
       "Signif. codes:  0 '***' 0.001 '**' 0.01 '*' 0.05 '.' 0.1 ' ' 1\n",
       "\n",
       "Residual standard error: 6.129 on 19 degrees of freedom\n",
       "Multiple R-squared:  0.7491,\tAdjusted R-squared:  0.7359 \n",
       "F-statistic: 56.72 on 1 and 19 DF,  p-value: 4.059e-07\n"
      ]
     },
     "metadata": {},
     "output_type": "display_data"
    }
   ],
   "source": [
    "erruptions.lm = lm(next.~duration , data = erruptions)\n",
    "print(\"Regression Model Summary\")\n",
    "summary(erruptions.lm)"
   ]
  },
  {
   "cell_type": "markdown",
   "metadata": {},
   "source": [
    "**Inference** : R2 = 74.91% of the sample variation in next can be explained by the variation in duration. There is a relatively high degree of linear association between the variables."
   ]
  },
  {
   "cell_type": "code",
   "execution_count": 81,
   "metadata": {},
   "outputs": [
    {
     "name": "stderr",
     "output_type": "stream",
     "text": [
      "`geom_smooth()` using formula 'y ~ x'\n",
      "\n"
     ]
    },
    {
     "data": {
      "image/png": "[encoded data removed]",
      "text/plain": [
       "plot without title"
      ]
     },
     "metadata": {
      "image/png": {
       "height": 420,
       "width": 420
      },
      "text/plain": {
       "height": 420,
       "width": 420
      }
     },
     "output_type": "display_data"
    }
   ],
   "source": [
    "ggplot(erruptions, aes(y=next., x=duration)) +\n",
    "  geom_point() +\n",
    "  geom_smooth(method = \"lm\") +\n",
    "  ylab(\"Time Until Next Erruption-Next\") +\n",
    "  xlab(\"Length of time of the last eruption-Duration\") +\n",
    "  labs(title = \"Time for Next Erruption v/s Length of Last Erruption\",\n",
    "              subtitle = \"Regression Plot : Next = 31.03 + 9.79*Duration\")"
   ]
  },
  {
   "cell_type": "code",
   "execution_count": 76,
   "metadata": {},
   "outputs": [],
   "source": [
    "# We create a new data frame that set the duration of erruption to 3 minutes.\n",
    "newdata = data.frame(duration=3)"
   ]
  },
  {
   "cell_type": "code",
   "execution_count": 83,
   "metadata": {},
   "outputs": [
    {
     "data": {
      "text/html": [
       "<table>\n",
       "<caption>A matrix: 1 × 3 of type dbl</caption>\n",
       "<thead>\n",
       "\t<tr><th></th><th scope=col>fit</th><th scope=col>lwr</th><th scope=col>upr</th></tr>\n",
       "</thead>\n",
       "<tbody>\n",
       "\t<tr><th scope=row>1</th><td>60.38332</td><td>47.2377</td><td>73.52893</td></tr>\n",
       "</tbody>\n",
       "</table>\n"
      ],
      "text/latex": [
       "A matrix: 1 × 3 of type dbl\n",
       "\\begin{tabular}{r|lll}\n",
       "  & fit & lwr & upr\\\\\n",
       "\\hline\n",
       "\t1 & 60.38332 & 47.2377 & 73.52893\\\\\n",
       "\\end{tabular}\n"
      ],
      "text/markdown": [
       "\n",
       "A matrix: 1 × 3 of type dbl\n",
       "\n",
       "| <!--/--> | fit | lwr | upr |\n",
       "|---|---|---|---|\n",
       "| 1 | 60.38332 | 47.2377 | 73.52893 |\n",
       "\n"
      ],
      "text/plain": [
       "  fit      lwr     upr     \n",
       "1 60.38332 47.2377 73.52893"
      ]
     },
     "metadata": {},
     "output_type": "display_data"
    }
   ],
   "source": [
    "# We now apply the predict function and set the predictor variable in the newdata argument. \n",
    "# We also set the interval type as \"prediction\", and use the default 0.95 confidence level. \n",
    "predict(erruptions.lm, newdata, interval=\"prediction\")"
   ]
  },
  {
   "cell_type": "markdown",
   "metadata": {},
   "source": [
    "**Inference**  \n",
    "1) The 95% prediction interval is (47.23, 73.52), which means we’re 95% confident that the time until the next eruption if the last eruption lasted 3 minutes will be between 47.23 to 73.52 minutes.  \n",
    "2) If we can only wait 60 minutes, this interval is too wide to be helpful to us since it extends beyond 60 minutes."
   ]
  },
  {
   "cell_type": "markdown",
   "metadata": {},
   "source": [
    "# Hypothesis Test for the Population Correlation Coefficient ρ  \n",
    "The correlation coefficient r and the coefficient of determination R2  summarize the strength of a linear relationship in samples only.   \n",
    "If we obtained a different sample, we would obtain different correlations, different R2 values, and therefore potentially different conclusions.   \n",
    "We want to draw conclusions about populations, not just samples. To do so, we either have to conduct a hypothesis test or calculate a confidence interval.   \n",
    "We will now asses how to conduct a hypothesis test for the population correlation coefficient ρ (the greek letter \"rho\").  \n",
    "\n",
    "For evaluating whether or not a linear relationship exists between predictor and response , we can perform either of the following tests: \n",
    "* t-test for testing H0:β1=0  \n",
    "* ANOVA F-test for testing H0:β1=0"
   ]
  },
  {
   "cell_type": "markdown",
   "metadata": {},
   "source": [
    "### Steps for Hypothesis Testing for ρ  \n",
    "* Step 1: Hypotheses Generation (specify the null and alternative hypotheses) :  \n",
    "Null hypothesis H0:ρ=0  \n",
    "Alternative hypothesis HA:ρ≠0 or HA:ρ<0 or HA:ρ>0\n",
    "\n",
    "\n",
    "* Step 2: Test Statistic (calculate the value of the test statistic)\n",
    "\n",
    "\n",
    "* Step 3: P-Value  \n",
    "We use the resulting test statistic to calculate the P-value. As always, the P-value is the answer to the question \"how likely is it that we’d get a test statistic t* as extreme as we did if the null hypothesis were true?\" \n",
    "\n",
    "\n",
    "* Step 4: Decision : Finally, we make a decision  \n",
    "*If the P-value is smaller than the significance level α, we reject the null hypothesis in favor of the alternative*. We conclude \"there is sufficient evidence at the α level to conclude that there is a linear relationship in the population between the predictor x and response y.  \n",
    "*If the P-value is larger than the significance level α , we fail to reject the null hypothesis* We conclude \"there is not enough evidence at the  α level to conclude that there is a linear relationship in the population between the predictor x and response y."
   ]
  },
  {
   "cell_type": "markdown",
   "metadata": {},
   "source": [
    "### Example 1 : Husband and Wife Data\n",
    "The relationship between the husband’s age and wife’s age does not have a clear explanatory and response varaible. \n",
    "Data set husbandwife records one observation per married couple (n=218).  \n",
    "The response variable can be wife age WAge or husband age HAge while the explanatory variable is the other.  \n",
    "We want to evaluate whether or not a linear relationship exists between a husband's age and his wife's age.  \n",
    "Case 1 : Husband's Age is \"response\"  and Wife's Age is \"predictor\"   \n",
    "Case 2 : Wife's Age is \"response\" and Husband's Age is \"predictor\""
   ]
  },
  {
   "cell_type": "code",
   "execution_count": 84,
   "metadata": {},
   "outputs": [
    {
     "data": {
      "text/html": [
       "<table>\n",
       "<caption>A data.frame: 6 × 5</caption>\n",
       "<thead>\n",
       "\t<tr><th></th><th scope=col>HAge</th><th scope=col>HHght</th><th scope=col>WAge</th><th scope=col>WHght</th><th scope=col>HAgeMar</th></tr>\n",
       "\t<tr><th></th><th scope=col>&lt;dbl&gt;</th><th scope=col>&lt;dbl&gt;</th><th scope=col>&lt;dbl&gt;</th><th scope=col>&lt;dbl&gt;</th><th scope=col>&lt;dbl&gt;</th></tr>\n",
       "</thead>\n",
       "<tbody>\n",
       "\t<tr><th scope=row>1</th><td>30</td><td>100</td><td>24</td><td>27</td><td>11</td></tr>\n",
       "\t<tr><th scope=row>2</th><td> 6</td><td>109</td><td>10</td><td>22</td><td> 5</td></tr>\n",
       "\t<tr><th scope=row>3</th><td>21</td><td> 22</td><td>12</td><td>33</td><td>23</td></tr>\n",
       "\t<tr><th scope=row>4</th><td>33</td><td> 82</td><td>38</td><td>16</td><td>12</td></tr>\n",
       "\t<tr><th scope=row>5</th><td>39</td><td>  9</td><td>33</td><td> 3</td><td>16</td></tr>\n",
       "\t<tr><th scope=row>6</th><td>13</td><td> 38</td><td> 9</td><td>41</td><td> 9</td></tr>\n",
       "</tbody>\n",
       "</table>\n"
      ],
      "text/latex": [
       "A data.frame: 6 × 5\n",
       "\\begin{tabular}{r|lllll}\n",
       "  & HAge & HHght & WAge & WHght & HAgeMar\\\\\n",
       "  & <dbl> & <dbl> & <dbl> & <dbl> & <dbl>\\\\\n",
       "\\hline\n",
       "\t1 & 30 & 100 & 24 & 27 & 11\\\\\n",
       "\t2 &  6 & 109 & 10 & 22 &  5\\\\\n",
       "\t3 & 21 &  22 & 12 & 33 & 23\\\\\n",
       "\t4 & 33 &  82 & 38 & 16 & 12\\\\\n",
       "\t5 & 39 &   9 & 33 &  3 & 16\\\\\n",
       "\t6 & 13 &  38 &  9 & 41 &  9\\\\\n",
       "\\end{tabular}\n"
      ],
      "text/markdown": [
       "\n",
       "A data.frame: 6 × 5\n",
       "\n",
       "| <!--/--> | HAge &lt;dbl&gt; | HHght &lt;dbl&gt; | WAge &lt;dbl&gt; | WHght &lt;dbl&gt; | HAgeMar &lt;dbl&gt; |\n",
       "|---|---|---|---|---|---|\n",
       "| 1 | 30 | 100 | 24 | 27 | 11 |\n",
       "| 2 |  6 | 109 | 10 | 22 |  5 |\n",
       "| 3 | 21 |  22 | 12 | 33 | 23 |\n",
       "| 4 | 33 |  82 | 38 | 16 | 12 |\n",
       "| 5 | 39 |   9 | 33 |  3 | 16 |\n",
       "| 6 | 13 |  38 |  9 | 41 |  9 |\n",
       "\n"
      ],
      "text/plain": [
       "  HAge HHght WAge WHght HAgeMar\n",
       "1 30   100   24   27    11     \n",
       "2  6   109   10   22     5     \n",
       "3 21    22   12   33    23     \n",
       "4 33    82   38   16    12     \n",
       "5 39     9   33    3    16     \n",
       "6 13    38    9   41     9     "
      ]
     },
     "metadata": {},
     "output_type": "display_data"
    }
   ],
   "source": [
    "head(husbandwife)"
   ]
  },
  {
   "cell_type": "markdown",
   "metadata": {},
   "source": [
    "#### Method 1 : cor() and cor.test()"
   ]
  },
  {
   "cell_type": "code",
   "execution_count": 86,
   "metadata": {},
   "outputs": [
    {
     "data": {
      "text/html": [
       "<table>\n",
       "<caption>A data.frame: 6 × 3</caption>\n",
       "<thead>\n",
       "\t<tr><th></th><th scope=col>age1</th><th scope=col>age2</th><th scope=col>grp</th></tr>\n",
       "\t<tr><th></th><th scope=col>&lt;dbl&gt;</th><th scope=col>&lt;dbl&gt;</th><th scope=col>&lt;fct&gt;</th></tr>\n",
       "</thead>\n",
       "<tbody>\n",
       "\t<tr><th scope=row>1</th><td>24</td><td>30</td><td>wife age vs husband age</td></tr>\n",
       "\t<tr><th scope=row>2</th><td>10</td><td> 6</td><td>wife age vs husband age</td></tr>\n",
       "\t<tr><th scope=row>3</th><td>12</td><td>21</td><td>wife age vs husband age</td></tr>\n",
       "\t<tr><th scope=row>4</th><td>38</td><td>33</td><td>wife age vs husband age</td></tr>\n",
       "\t<tr><th scope=row>5</th><td>33</td><td>39</td><td>wife age vs husband age</td></tr>\n",
       "\t<tr><th scope=row>6</th><td> 9</td><td>13</td><td>wife age vs husband age</td></tr>\n",
       "</tbody>\n",
       "</table>\n"
      ],
      "text/latex": [
       "A data.frame: 6 × 3\n",
       "\\begin{tabular}{r|lll}\n",
       "  & age1 & age2 & grp\\\\\n",
       "  & <dbl> & <dbl> & <fct>\\\\\n",
       "\\hline\n",
       "\t1 & 24 & 30 & wife age vs husband age\\\\\n",
       "\t2 & 10 &  6 & wife age vs husband age\\\\\n",
       "\t3 & 12 & 21 & wife age vs husband age\\\\\n",
       "\t4 & 38 & 33 & wife age vs husband age\\\\\n",
       "\t5 & 33 & 39 & wife age vs husband age\\\\\n",
       "\t6 &  9 & 13 & wife age vs husband age\\\\\n",
       "\\end{tabular}\n"
      ],
      "text/markdown": [
       "\n",
       "A data.frame: 6 × 3\n",
       "\n",
       "| <!--/--> | age1 &lt;dbl&gt; | age2 &lt;dbl&gt; | grp &lt;fct&gt; |\n",
       "|---|---|---|---|\n",
       "| 1 | 24 | 30 | wife age vs husband age |\n",
       "| 2 | 10 |  6 | wife age vs husband age |\n",
       "| 3 | 12 | 21 | wife age vs husband age |\n",
       "| 4 | 38 | 33 | wife age vs husband age |\n",
       "| 5 | 33 | 39 | wife age vs husband age |\n",
       "| 6 |  9 | 13 | wife age vs husband age |\n",
       "\n"
      ],
      "text/plain": [
       "  age1 age2 grp                    \n",
       "1 24   30   wife age vs husband age\n",
       "2 10    6   wife age vs husband age\n",
       "3 12   21   wife age vs husband age\n",
       "4 38   33   wife age vs husband age\n",
       "5 33   39   wife age vs husband age\n",
       "6  9   13   wife age vs husband age"
      ]
     },
     "metadata": {},
     "output_type": "display_data"
    }
   ],
   "source": [
    "w<-husbandwife$WAge # create a variable Wife Age\n",
    "h<-husbandwife$HAge # create a variable Husband Age\n",
    "a<-data.frame(age1=w, age2=h, grp=\"wife age vs husband age\")\n",
    "head(a)"
   ]
  },
  {
   "cell_type": "code",
   "execution_count": 87,
   "metadata": {},
   "outputs": [
    {
     "data": {
      "text/html": [
       "<table>\n",
       "<caption>A data.frame: 6 × 3</caption>\n",
       "<thead>\n",
       "\t<tr><th></th><th scope=col>age1</th><th scope=col>age2</th><th scope=col>grp</th></tr>\n",
       "\t<tr><th></th><th scope=col>&lt;dbl&gt;</th><th scope=col>&lt;dbl&gt;</th><th scope=col>&lt;fct&gt;</th></tr>\n",
       "</thead>\n",
       "<tbody>\n",
       "\t<tr><th scope=row>1</th><td>24</td><td>30</td><td>wife age vs husband age</td></tr>\n",
       "\t<tr><th scope=row>2</th><td>10</td><td> 6</td><td>wife age vs husband age</td></tr>\n",
       "\t<tr><th scope=row>3</th><td>12</td><td>21</td><td>wife age vs husband age</td></tr>\n",
       "\t<tr><th scope=row>4</th><td>38</td><td>33</td><td>wife age vs husband age</td></tr>\n",
       "\t<tr><th scope=row>5</th><td>33</td><td>39</td><td>wife age vs husband age</td></tr>\n",
       "\t<tr><th scope=row>6</th><td> 9</td><td>13</td><td>wife age vs husband age</td></tr>\n",
       "</tbody>\n",
       "</table>\n"
      ],
      "text/latex": [
       "A data.frame: 6 × 3\n",
       "\\begin{tabular}{r|lll}\n",
       "  & age1 & age2 & grp\\\\\n",
       "  & <dbl> & <dbl> & <fct>\\\\\n",
       "\\hline\n",
       "\t1 & 24 & 30 & wife age vs husband age\\\\\n",
       "\t2 & 10 &  6 & wife age vs husband age\\\\\n",
       "\t3 & 12 & 21 & wife age vs husband age\\\\\n",
       "\t4 & 38 & 33 & wife age vs husband age\\\\\n",
       "\t5 & 33 & 39 & wife age vs husband age\\\\\n",
       "\t6 &  9 & 13 & wife age vs husband age\\\\\n",
       "\\end{tabular}\n"
      ],
      "text/markdown": [
       "\n",
       "A data.frame: 6 × 3\n",
       "\n",
       "| <!--/--> | age1 &lt;dbl&gt; | age2 &lt;dbl&gt; | grp &lt;fct&gt; |\n",
       "|---|---|---|---|\n",
       "| 1 | 24 | 30 | wife age vs husband age |\n",
       "| 2 | 10 |  6 | wife age vs husband age |\n",
       "| 3 | 12 | 21 | wife age vs husband age |\n",
       "| 4 | 38 | 33 | wife age vs husband age |\n",
       "| 5 | 33 | 39 | wife age vs husband age |\n",
       "| 6 |  9 | 13 | wife age vs husband age |\n",
       "\n"
      ],
      "text/plain": [
       "  age1 age2 grp                    \n",
       "1 24   30   wife age vs husband age\n",
       "2 10    6   wife age vs husband age\n",
       "3 12   21   wife age vs husband age\n",
       "4 38   33   wife age vs husband age\n",
       "5 33   39   wife age vs husband age\n",
       "6  9   13   wife age vs husband age"
      ]
     },
     "metadata": {},
     "output_type": "display_data"
    }
   ],
   "source": [
    "df<-rbind(data.frame(age1=w, age2=h, grp=\"wife age vs husband age\"),\n",
    "          data.frame(age1=h, age2=w, grp=\"husband age vs wife age\"))\n",
    "head(df)"
   ]
  },
  {
   "cell_type": "code",
   "execution_count": 88,
   "metadata": {},
   "outputs": [
    {
     "name": "stderr",
     "output_type": "stream",
     "text": [
      "`geom_smooth()` using formula 'y ~ x'\n",
      "\n"
     ]
    },
    {
     "data": {
      "image/png": "[encoded data removed]",
      "text/plain": [
       "plot without title"
      ]
     },
     "metadata": {
      "image/png": {
       "height": 420,
       "width": 420
      },
      "text/plain": {
       "height": 420,
       "width": 420
      }
     },
     "output_type": "display_data"
    }
   ],
   "source": [
    "ggplot(na.omit(df), aes(y=age1, x=age2, group=grp, shape=grp, colour=grp)) +\n",
    "  geom_point() +\n",
    "  geom_smooth(method = \"lm\") +\n",
    "  ylab(\"Age 1\") +\n",
    "  xlab(\"Age 2\") +\n",
    "  ggtitle(\"Spouse Age vs Spouse Age\")"
   ]
  },
  {
   "cell_type": "markdown",
   "metadata": {},
   "source": [
    "* cor() computes the correlation coefficient.   \n",
    "* cor. test() test for association/correlation between paired samples.It returns both the correlation coefficient and the significance level(or p-value) of the correlation ."
   ]
  },
  {
   "cell_type": "code",
   "execution_count": 90,
   "metadata": {},
   "outputs": [
    {
     "name": "stdout",
     "output_type": "stream",
     "text": [
      "[1] \"Correlation Coefficient Husband's Age v/s Wife's Age\"\n"
     ]
    },
    {
     "data": {
      "text/html": [
       "0.937680986070519"
      ],
      "text/latex": [
       "0.937680986070519"
      ],
      "text/markdown": [
       "0.937680986070519"
      ],
      "text/plain": [
       "[1] 0.937681"
      ]
     },
     "metadata": {},
     "output_type": "display_data"
    },
    {
     "name": "stdout",
     "output_type": "stream",
     "text": [
      "[1] \"Correlation Coeffieient Wife's Age v/s Husband's Age\"\n"
     ]
    },
    {
     "data": {
      "text/html": [
       "0.937680986070519"
      ],
      "text/latex": [
       "0.937680986070519"
      ],
      "text/markdown": [
       "0.937680986070519"
      ],
      "text/plain": [
       "[1] 0.937681"
      ]
     },
     "metadata": {},
     "output_type": "display_data"
    },
    {
     "name": "stdout",
     "output_type": "stream",
     "text": [
      "[1] \"Correlation test between Husband's Age and Wife's Age\"\n"
     ]
    },
    {
     "data": {
      "text/plain": [
       "\n",
       "\tPearson's product-moment correlation\n",
       "\n",
       "data:  husbandwife$WAge and husbandwife$HAge\n",
       "t = 34.975, df = 168, p-value < 2.2e-16\n",
       "alternative hypothesis: true correlation is not equal to 0\n",
       "95 percent confidence interval:\n",
       " 0.9165191 0.9536083\n",
       "sample estimates:\n",
       "     cor \n",
       "0.937681 \n"
      ]
     },
     "metadata": {},
     "output_type": "display_data"
    }
   ],
   "source": [
    "print(\"Correlation Coefficient Husband's Age v/s Wife's Age\")\n",
    "cor(husbandwife$HAge, husbandwife$WAge, use=\"pairwise.complete.obs\")\n",
    "\n",
    "print(\"Correlation Coeffieient Wife's Age v/s Husband's Age\")\n",
    "cor(husbandwife$WAge,husbandwife$HAge, use=\"pairwise.complete.obs\")\n",
    "\n",
    "print(\"Correlation test between Husband's Age and Wife's Age\")\n",
    "cor.test(husbandwife$WAge, husbandwife$HAge, alternative = \"two.sided\")"
   ]
  },
  {
   "cell_type": "markdown",
   "metadata": {},
   "source": [
    "**Inference : p value is < 0.05 implying that Husband's Age and Wife's Age are correlated to each other**"
   ]
  },
  {
   "cell_type": "markdown",
   "metadata": {},
   "source": [
    "#### Method 2 : t-Test on linear regression model"
   ]
  },
  {
   "cell_type": "markdown",
   "metadata": {},
   "source": [
    "**Step 1 : Hypothesis Generation**\n",
    "\n",
    "Null Hypothesis : H0 - ρ=0 --- Husband's Age and Wife's Age are not correlated  \n",
    "\n",
    "Alternate Hypothesis : Ha - ρ≠0 --- Husband's Age and Wife's Age are correlated"
   ]
  },
  {
   "cell_type": "markdown",
   "metadata": {},
   "source": [
    "**Step 2 : Test Statistic**"
   ]
  },
  {
   "cell_type": "code",
   "execution_count": 93,
   "metadata": {},
   "outputs": [],
   "source": [
    "# Build a linear Regression model for Husband's Ages / Vs Wife's Age\n",
    "hwmodel = lm(age1 ~ age2 , data = df)"
   ]
  },
  {
   "cell_type": "code",
   "execution_count": 106,
   "metadata": {},
   "outputs": [
    {
     "data": {
      "text/html": [
       "<table>\n",
       "<caption>A matrix: 2 × 4 of type dbl</caption>\n",
       "<thead>\n",
       "\t<tr><th></th><th scope=col>Estimate</th><th scope=col>Std. Error</th><th scope=col>t value</th><th scope=col>Pr(&gt;|t|)</th></tr>\n",
       "</thead>\n",
       "<tbody>\n",
       "\t<tr><th scope=row>(Intercept)</th><td>1.7894737</td><td>0.53938257</td><td> 3.317634</td><td> 1.006642e-03</td></tr>\n",
       "\t<tr><th scope=row>age2</th><td>0.9221968</td><td>0.02103484</td><td>43.841388</td><td>1.631260e-141</td></tr>\n",
       "</tbody>\n",
       "</table>\n"
      ],
      "text/latex": [
       "A matrix: 2 × 4 of type dbl\n",
       "\\begin{tabular}{r|llll}\n",
       "  & Estimate & Std. Error & t value & Pr(>\\textbar{}t\\textbar{})\\\\\n",
       "\\hline\n",
       "\t(Intercept) & 1.7894737 & 0.53938257 &  3.317634 &  1.006642e-03\\\\\n",
       "\tage2 & 0.9221968 & 0.02103484 & 43.841388 & 1.631260e-141\\\\\n",
       "\\end{tabular}\n"
      ],
      "text/markdown": [
       "\n",
       "A matrix: 2 × 4 of type dbl\n",
       "\n",
       "| <!--/--> | Estimate | Std. Error | t value | Pr(&gt;|t|) |\n",
       "|---|---|---|---|---|\n",
       "| (Intercept) | 1.7894737 | 0.53938257 |  3.317634 |  1.006642e-03 |\n",
       "| age2 | 0.9221968 | 0.02103484 | 43.841388 | 1.631260e-141 |\n",
       "\n"
      ],
      "text/plain": [
       "            Estimate  Std. Error t value   Pr(>|t|)     \n",
       "(Intercept) 1.7894737 0.53938257  3.317634  1.006642e-03\n",
       "age2        0.9221968 0.02103484 43.841388 1.631260e-141"
      ]
     },
     "metadata": {},
     "output_type": "display_data"
    }
   ],
   "source": [
    "# Summrise the Model and it's Coefficients\n",
    "modelSummary <- summary(hwmodel)  # capture model summary as an object\n",
    "modelCoeffs <- modelSummary$coefficients  # model coefficients\n",
    "modelCoeffs"
   ]
  },
  {
   "cell_type": "code",
   "execution_count": 102,
   "metadata": {},
   "outputs": [
    {
     "name": "stdout",
     "output_type": "stream",
     "text": [
      "[1] \"beta estimate for age2 is\"\n"
     ]
    },
    {
     "data": {
      "text/html": [
       "0.922196796338673"
      ],
      "text/latex": [
       "0.922196796338673"
      ],
      "text/markdown": [
       "0.922196796338673"
      ],
      "text/plain": [
       "[1] 0.9221968"
      ]
     },
     "metadata": {},
     "output_type": "display_data"
    },
    {
     "name": "stdout",
     "output_type": "stream",
     "text": [
      "[1] \"standard errors for age2 is\"\n"
     ]
    },
    {
     "data": {
      "text/html": [
       "0.0210348449164438"
      ],
      "text/latex": [
       "0.0210348449164438"
      ],
      "text/markdown": [
       "0.0210348449164438"
      ],
      "text/plain": [
       "[1] 0.02103484"
      ]
     },
     "metadata": {},
     "output_type": "display_data"
    },
    {
     "name": "stdout",
     "output_type": "stream",
     "text": [
      "[1] \"t-statistic for age2 is\"\n"
     ]
    },
    {
     "data": {
      "text/html": [
       "43.8413879447123"
      ],
      "text/latex": [
       "43.8413879447123"
      ],
      "text/markdown": [
       "43.8413879447123"
      ],
      "text/plain": [
       "[1] 43.84139"
      ]
     },
     "metadata": {},
     "output_type": "display_data"
    }
   ],
   "source": [
    "# Geta Beta Estimates , Standard Error & T-Statistic\n",
    "beta.estimate <- modelCoeffs[\"age2\", \"Estimate\"]  # get beta estimate for speed\n",
    "\n",
    "std.error <- modelCoeffs[\"age2\", \"Std. Error\"]  # get std.error for speed\n",
    "\n",
    "print(\"beta estimate for age2 is\") \n",
    "beta.estimate\n",
    "\n",
    "print(\"standard errors for age2 is\") \n",
    "std.error\n",
    "\n",
    "print(\"t-statistic for age2 is\")\n",
    "t_value <- beta.estimate/std.error  # calc t statistic\n",
    "t_value"
   ]
  },
  {
   "cell_type": "markdown",
   "metadata": {},
   "source": [
    "**Step 3 : p-value**"
   ]
  },
  {
   "cell_type": "code",
   "execution_count": 104,
   "metadata": {},
   "outputs": [
    {
     "name": "stdout",
     "output_type": "stream",
     "text": [
      "[1] \"p-value is\"\n"
     ]
    },
    {
     "data": {
      "text/html": [
       "2.44482909935478e-161"
      ],
      "text/latex": [
       "2.44482909935478e-161"
      ],
      "text/markdown": [
       "2.44482909935478e-161"
      ],
      "text/plain": [
       "[1] 2.444829e-161"
      ]
     },
     "metadata": {},
     "output_type": "display_data"
    }
   ],
   "source": [
    "p_value <- 2*pt(-abs(t_value), df=nrow(df)-ncol(df))  # calc p Value\n",
    "print(\"p-value is\")\n",
    "p_value"
   ]
  },
  {
   "cell_type": "markdown",
   "metadata": {},
   "source": [
    "**Step 4 : Decision** \n",
    "Since the P-value is small — smaller than 0.05, say — we can reject the null hypothesis.  \n",
    "*There is sufficient statistical evidence at the α=0.05 level to conclude that there is a significant linear relationship between a husband's age and his wife's age.*"
   ]
  },
  {
   "cell_type": "markdown",
   "metadata": {},
   "source": [
    "### Example 2 :  Teen Birth Rate and Poverty Level Data  \n",
    "This dataset of size n = 51 are for the 50 states and the District of Columbia in the United States (Poverty data).\n",
    "\n",
    "The variables are :   \n",
    "y = year 2002 birth rate per 1000 females 15 to 17 years old (Brth15to17) and   \n",
    "x = poverty rate (PovPct), which is the percent of the state’s population living in households with incomes below the federally defined poverty level. \n",
    "\n",
    "(Data source: Mind On Statistics, 3rd edition, Utts and Heckard)."
   ]
  },
  {
   "cell_type": "markdown",
   "metadata": {},
   "source": [
    "**Load and View Summary of the Data**"
   ]
  },
  {
   "cell_type": "code",
   "execution_count": 109,
   "metadata": {},
   "outputs": [
    {
     "data": {
      "text/html": [
       "<table>\n",
       "<caption>A data.frame: 6 × 6</caption>\n",
       "<thead>\n",
       "\t<tr><th></th><th scope=col>Location</th><th scope=col>PovPct</th><th scope=col>Brth15to17</th><th scope=col>Brth18to19</th><th scope=col>ViolCrime</th><th scope=col>TeenBrth</th></tr>\n",
       "\t<tr><th></th><th scope=col>&lt;fct&gt;</th><th scope=col>&lt;dbl&gt;</th><th scope=col>&lt;dbl&gt;</th><th scope=col>&lt;dbl&gt;</th><th scope=col>&lt;dbl&gt;</th><th scope=col>&lt;dbl&gt;</th></tr>\n",
       "</thead>\n",
       "<tbody>\n",
       "\t<tr><th scope=row>1</th><td>Alabama   </td><td>20.1</td><td>31.5</td><td> 88.7</td><td>11.2</td><td>54.5</td></tr>\n",
       "\t<tr><th scope=row>2</th><td>Alaska    </td><td> 7.1</td><td>18.9</td><td> 73.7</td><td> 9.1</td><td>39.5</td></tr>\n",
       "\t<tr><th scope=row>3</th><td>Arizona   </td><td>16.1</td><td>35.0</td><td>102.5</td><td>10.4</td><td>61.2</td></tr>\n",
       "\t<tr><th scope=row>4</th><td>Arkansas  </td><td>14.9</td><td>31.6</td><td>101.7</td><td>10.4</td><td>59.9</td></tr>\n",
       "\t<tr><th scope=row>5</th><td>California</td><td>16.7</td><td>22.6</td><td> 69.1</td><td>11.2</td><td>41.1</td></tr>\n",
       "\t<tr><th scope=row>6</th><td>Colorado  </td><td> 8.8</td><td>26.2</td><td> 79.1</td><td> 5.8</td><td>47.0</td></tr>\n",
       "</tbody>\n",
       "</table>\n"
      ],
      "text/latex": [
       "A data.frame: 6 × 6\n",
       "\\begin{tabular}{r|llllll}\n",
       "  & Location & PovPct & Brth15to17 & Brth18to19 & ViolCrime & TeenBrth\\\\\n",
       "  & <fct> & <dbl> & <dbl> & <dbl> & <dbl> & <dbl>\\\\\n",
       "\\hline\n",
       "\t1 & Alabama    & 20.1 & 31.5 &  88.7 & 11.2 & 54.5\\\\\n",
       "\t2 & Alaska     &  7.1 & 18.9 &  73.7 &  9.1 & 39.5\\\\\n",
       "\t3 & Arizona    & 16.1 & 35.0 & 102.5 & 10.4 & 61.2\\\\\n",
       "\t4 & Arkansas   & 14.9 & 31.6 & 101.7 & 10.4 & 59.9\\\\\n",
       "\t5 & California & 16.7 & 22.6 &  69.1 & 11.2 & 41.1\\\\\n",
       "\t6 & Colorado   &  8.8 & 26.2 &  79.1 &  5.8 & 47.0\\\\\n",
       "\\end{tabular}\n"
      ],
      "text/markdown": [
       "\n",
       "A data.frame: 6 × 6\n",
       "\n",
       "| <!--/--> | Location &lt;fct&gt; | PovPct &lt;dbl&gt; | Brth15to17 &lt;dbl&gt; | Brth18to19 &lt;dbl&gt; | ViolCrime &lt;dbl&gt; | TeenBrth &lt;dbl&gt; |\n",
       "|---|---|---|---|---|---|---|\n",
       "| 1 | Alabama    | 20.1 | 31.5 |  88.7 | 11.2 | 54.5 |\n",
       "| 2 | Alaska     |  7.1 | 18.9 |  73.7 |  9.1 | 39.5 |\n",
       "| 3 | Arizona    | 16.1 | 35.0 | 102.5 | 10.4 | 61.2 |\n",
       "| 4 | Arkansas   | 14.9 | 31.6 | 101.7 | 10.4 | 59.9 |\n",
       "| 5 | California | 16.7 | 22.6 |  69.1 | 11.2 | 41.1 |\n",
       "| 6 | Colorado   |  8.8 | 26.2 |  79.1 |  5.8 | 47.0 |\n",
       "\n"
      ],
      "text/plain": [
       "  Location   PovPct Brth15to17 Brth18to19 ViolCrime TeenBrth\n",
       "1 Alabama    20.1   31.5        88.7      11.2      54.5    \n",
       "2 Alaska      7.1   18.9        73.7       9.1      39.5    \n",
       "3 Arizona    16.1   35.0       102.5      10.4      61.2    \n",
       "4 Arkansas   14.9   31.6       101.7      10.4      59.9    \n",
       "5 California 16.7   22.6        69.1      11.2      41.1    \n",
       "6 Colorado    8.8   26.2        79.1       5.8      47.0    "
      ]
     },
     "metadata": {},
     "output_type": "display_data"
    },
    {
     "data": {
      "text/plain": [
       "       Location      PovPct        Brth15to17      Brth18to19    \n",
       " Alabama   : 1   Min.   : 5.30   Min.   : 8.10   Min.   : 39.00  \n",
       " Alaska    : 1   1st Qu.:10.25   1st Qu.:17.25   1st Qu.: 58.30  \n",
       " Arizona   : 1   Median :12.20   Median :20.00   Median : 69.40  \n",
       " Arkansas  : 1   Mean   :13.12   Mean   :22.28   Mean   : 72.02  \n",
       " California: 1   3rd Qu.:15.80   3rd Qu.:28.10   3rd Qu.: 87.95  \n",
       " Colorado  : 1   Max.   :25.30   Max.   :44.80   Max.   :104.30  \n",
       " (Other)   :45                                                   \n",
       "   ViolCrime         TeenBrth    \n",
       " Min.   : 0.900   Min.   :20.00  \n",
       " 1st Qu.: 3.900   1st Qu.:33.90  \n",
       " Median : 6.300   Median :39.50  \n",
       " Mean   : 7.855   Mean   :42.24  \n",
       " 3rd Qu.: 9.450   3rd Qu.:52.60  \n",
       " Max.   :65.000   Max.   :69.10  \n",
       "                                 "
      ]
     },
     "metadata": {},
     "output_type": "display_data"
    }
   ],
   "source": [
    "head(poverty)\n",
    "summary(poverty)"
   ]
  },
  {
   "cell_type": "markdown",
   "metadata": {},
   "source": [
    "**Fit a Linear Regression Model**"
   ]
  },
  {
   "cell_type": "code",
   "execution_count": 111,
   "metadata": {},
   "outputs": [
    {
     "data": {
      "text/plain": [
       "\n",
       "Call:\n",
       "lm(formula = Brth15to17 ~ PovPct, data = poverty)\n",
       "\n",
       "Residuals:\n",
       "     Min       1Q   Median       3Q      Max \n",
       "-11.2275  -3.6554  -0.0407   2.4972  10.5152 \n",
       "\n",
       "Coefficients:\n",
       "            Estimate Std. Error t value Pr(>|t|)    \n",
       "(Intercept)   4.2673     2.5297   1.687    0.098 .  \n",
       "PovPct        1.3733     0.1835   7.483 1.19e-09 ***\n",
       "---\n",
       "Signif. codes:  0 '***' 0.001 '**' 0.01 '*' 0.05 '.' 0.1 ' ' 1\n",
       "\n",
       "Residual standard error: 5.551 on 49 degrees of freedom\n",
       "Multiple R-squared:  0.5333,\tAdjusted R-squared:  0.5238 \n",
       "F-statistic:    56 on 1 and 49 DF,  p-value: 1.188e-09\n"
      ]
     },
     "metadata": {},
     "output_type": "display_data"
    }
   ],
   "source": [
    "m <- lm(Brth15to17 ~ PovPct, data = poverty)\n",
    "summary(m)"
   ]
  },
  {
   "cell_type": "markdown",
   "metadata": {},
   "source": [
    "**Visualize the relationship between response and pridictor with linear model plotted**"
   ]
  },
  {
   "cell_type": "code",
   "execution_count": 112,
   "metadata": {},
   "outputs": [
    {
     "name": "stderr",
     "output_type": "stream",
     "text": [
      "`geom_smooth()` using formula 'y ~ x'\n",
      "\n"
     ]
    },
    {
     "data": {
      "image/png": "[encoded data removed]",
      "text/plain": [
       "plot without title"
      ]
     },
     "metadata": {
      "image/png": {
       "height": 420,
       "width": 420
      },
      "text/plain": {
       "height": 420,
       "width": 420
      }
     },
     "output_type": "display_data"
    }
   ],
   "source": [
    "ggplot(poverty, aes(y=Brth15to17, x=PovPct)) +\n",
    "  geom_point() +\n",
    "  geom_smooth(method = \"lm\") +\n",
    "  ylab(\"Poverty Rate (%)\") +\n",
    "  xlab(\"Teen Birth Rate (ages 15-17) (%)\") +\n",
    "  ggtitle(\"Teen Birth (15-17) Rate versus Poverty Rate\") +\n",
    "labs(subtitle = \"Regression Plot : Birth Rate = 4.267 + 1.3722*Poverty PCt\")"
   ]
  },
  {
   "cell_type": "markdown",
   "metadata": {},
   "source": [
    "**Conduct Correlation test to validation significance of correlation**"
   ]
  },
  {
   "cell_type": "code",
   "execution_count": 113,
   "metadata": {},
   "outputs": [
    {
     "data": {
      "text/plain": [
       "\n",
       "\tPearson's product-moment correlation\n",
       "\n",
       "data:  poverty$Brth15to17 and poverty$PovPct\n",
       "t = 7.4832, df = 49, p-value = 1.188e-09\n",
       "alternative hypothesis: true correlation is not equal to 0\n",
       "95 percent confidence interval:\n",
       " 0.5692811 0.8373536\n",
       "sample estimates:\n",
       "      cor \n",
       "0.7302931 \n"
      ]
     },
     "metadata": {},
     "output_type": "display_data"
    }
   ],
   "source": [
    "cor.test(poverty$Brth15to17, poverty$PovPct, alternative = \"two.sided\")"
   ]
  },
  {
   "cell_type": "markdown",
   "metadata": {},
   "source": [
    "**Inference** \n",
    "\n",
    "(1) The interpretation of the slope (value = 1.372) is that the 15 to 17-year-old birth rate increases 1.372 units, on average, for each one unit (one percent) increase in the poverty rate.  \n",
    "\n",
    "(2) The interpretation of the intercept (value=4.267) is that if there were states with poverty rate = 0, the predicted average for the 15 to 17-year-old birth rate would be 4.267 for those states. Since there are no states with poverty rate = 0 this interpretation of the intercept is not practically meaningful for this example.(perhaps the variable should be centered)  \n",
    "\n",
    "(3) The residual standard error (s=5.551)roughly indicates the average difference between the predicted and observed values.  \n",
    "\n",
    "(4) The r-squared (R2=.5333) means poverty rates “explain” 53.33% of the observed variation in the 15 to 17 year old average birth rates of the states.  \n",
    "\n",
    "(5) Correlation coefficient r = 0.73 with p value is < 0.05 implying that Teen Birth rate and Poverty are strongly correlated"
   ]
  },
  {
   "cell_type": "code",
   "execution_count": null,
   "metadata": {},
   "outputs": [],
   "source": []
  }
 ],
 "metadata": {
  "kernelspec": {
   "display_name": "R",
   "language": "R",
   "name": "ir"
  },
  "language_info": {
   "codemirror_mode": "r",
   "file_extension": ".r",
   "mimetype": "text/x-r-source",
   "name": "R",
   "pygments_lexer": "r",
   "version": "3.6.1"
  },
  "toc": {
   "base_numbering": 1,
   "nav_menu": {},
   "number_sections": true,
   "sideBar": true,
   "skip_h1_title": false,
   "title_cell": "Table of Contents",
   "title_sidebar": "Contents",
   "toc_cell": false,
   "toc_position": {},
   "toc_section_display": true,
   "toc_window_display": false
  },
  "varInspector": {
   "cols": {
    "lenName": 16,
    "lenType": 16,
    "lenVar": 40
   },
   "kernels_config": {
    "python": {
     "delete_cmd_postfix": "",
     "delete_cmd_prefix": "del ",
     "library": "var_list.py",
     "varRefreshCmd": "print(var_dic_list())"
    },
    "r": {
     "delete_cmd_postfix": ") ",
     "delete_cmd_prefix": "rm(",
     "library": "var_list.r",
     "varRefreshCmd": "cat(var_dic_list()) "
    }
   },
   "types_to_exclude": [
    "module",
    "function",
    "builtin_function_or_method",
    "instance",
    "_Feature"
   ],
   "window_display": false
  }
 },
 "nbformat": 4,
 "nbformat_minor": 2
}
